{
 "cells": [
  {
   "cell_type": "code",
   "execution_count": 49,
   "id": "071ea21b",
   "metadata": {},
   "outputs": [],
   "source": [
    "import pandas as pd\n",
    "import matplotlib\n",
    "from matplotlib import pyplot \n",
    "from scipy.stats import shapiro\n",
    "from numpy.random import randn\n",
    "from scipy.stats import normaltest\n",
    "\n",
    "import matplotlib.pyplot as plt\n",
    "import seaborn as sns\n",
    "%matplotlib inline"
   ]
  },
  {
   "cell_type": "code",
   "execution_count": 19,
   "id": "2551d0c3",
   "metadata": {},
   "outputs": [],
   "source": [
    "import random\n",
    "seed = 3\n",
    "random.seed(seed)"
   ]
  },
  {
   "cell_type": "markdown",
   "id": "de58c097",
   "metadata": {},
   "source": [
    "## Import data"
   ]
  },
  {
   "cell_type": "code",
   "execution_count": 6,
   "id": "2620f0f6",
   "metadata": {},
   "outputs": [],
   "source": [
    "WineData = pd.read_csv(\"/Users/federicobersani/Desktop/ABtesting/data/winequality-red.csv\", sep=\";\")"
   ]
  },
  {
   "cell_type": "code",
   "execution_count": 7,
   "id": "88c41f6e",
   "metadata": {},
   "outputs": [
    {
     "data": {
      "text/html": [
       "<div>\n",
       "<style scoped>\n",
       "    .dataframe tbody tr th:only-of-type {\n",
       "        vertical-align: middle;\n",
       "    }\n",
       "\n",
       "    .dataframe tbody tr th {\n",
       "        vertical-align: top;\n",
       "    }\n",
       "\n",
       "    .dataframe thead th {\n",
       "        text-align: right;\n",
       "    }\n",
       "</style>\n",
       "<table border=\"1\" class=\"dataframe\">\n",
       "  <thead>\n",
       "    <tr style=\"text-align: right;\">\n",
       "      <th></th>\n",
       "      <th>fixed acidity</th>\n",
       "      <th>volatile acidity</th>\n",
       "      <th>citric acid</th>\n",
       "      <th>residual sugar</th>\n",
       "      <th>chlorides</th>\n",
       "      <th>free sulfur dioxide</th>\n",
       "      <th>total sulfur dioxide</th>\n",
       "      <th>density</th>\n",
       "      <th>pH</th>\n",
       "      <th>sulphates</th>\n",
       "      <th>alcohol</th>\n",
       "      <th>quality</th>\n",
       "    </tr>\n",
       "  </thead>\n",
       "  <tbody>\n",
       "    <tr>\n",
       "      <th>0</th>\n",
       "      <td>7.4</td>\n",
       "      <td>0.70</td>\n",
       "      <td>0.00</td>\n",
       "      <td>1.9</td>\n",
       "      <td>0.076</td>\n",
       "      <td>11.0</td>\n",
       "      <td>34.0</td>\n",
       "      <td>0.9978</td>\n",
       "      <td>3.51</td>\n",
       "      <td>0.56</td>\n",
       "      <td>9.4</td>\n",
       "      <td>5</td>\n",
       "    </tr>\n",
       "    <tr>\n",
       "      <th>1</th>\n",
       "      <td>7.8</td>\n",
       "      <td>0.88</td>\n",
       "      <td>0.00</td>\n",
       "      <td>2.6</td>\n",
       "      <td>0.098</td>\n",
       "      <td>25.0</td>\n",
       "      <td>67.0</td>\n",
       "      <td>0.9968</td>\n",
       "      <td>3.20</td>\n",
       "      <td>0.68</td>\n",
       "      <td>9.8</td>\n",
       "      <td>5</td>\n",
       "    </tr>\n",
       "    <tr>\n",
       "      <th>2</th>\n",
       "      <td>7.8</td>\n",
       "      <td>0.76</td>\n",
       "      <td>0.04</td>\n",
       "      <td>2.3</td>\n",
       "      <td>0.092</td>\n",
       "      <td>15.0</td>\n",
       "      <td>54.0</td>\n",
       "      <td>0.9970</td>\n",
       "      <td>3.26</td>\n",
       "      <td>0.65</td>\n",
       "      <td>9.8</td>\n",
       "      <td>5</td>\n",
       "    </tr>\n",
       "    <tr>\n",
       "      <th>3</th>\n",
       "      <td>11.2</td>\n",
       "      <td>0.28</td>\n",
       "      <td>0.56</td>\n",
       "      <td>1.9</td>\n",
       "      <td>0.075</td>\n",
       "      <td>17.0</td>\n",
       "      <td>60.0</td>\n",
       "      <td>0.9980</td>\n",
       "      <td>3.16</td>\n",
       "      <td>0.58</td>\n",
       "      <td>9.8</td>\n",
       "      <td>6</td>\n",
       "    </tr>\n",
       "    <tr>\n",
       "      <th>4</th>\n",
       "      <td>7.4</td>\n",
       "      <td>0.70</td>\n",
       "      <td>0.00</td>\n",
       "      <td>1.9</td>\n",
       "      <td>0.076</td>\n",
       "      <td>11.0</td>\n",
       "      <td>34.0</td>\n",
       "      <td>0.9978</td>\n",
       "      <td>3.51</td>\n",
       "      <td>0.56</td>\n",
       "      <td>9.4</td>\n",
       "      <td>5</td>\n",
       "    </tr>\n",
       "  </tbody>\n",
       "</table>\n",
       "</div>"
      ],
      "text/plain": [
       "   fixed acidity  volatile acidity  citric acid  residual sugar  chlorides  \\\n",
       "0            7.4              0.70         0.00             1.9      0.076   \n",
       "1            7.8              0.88         0.00             2.6      0.098   \n",
       "2            7.8              0.76         0.04             2.3      0.092   \n",
       "3           11.2              0.28         0.56             1.9      0.075   \n",
       "4            7.4              0.70         0.00             1.9      0.076   \n",
       "\n",
       "   free sulfur dioxide  total sulfur dioxide  density    pH  sulphates  \\\n",
       "0                 11.0                  34.0   0.9978  3.51       0.56   \n",
       "1                 25.0                  67.0   0.9968  3.20       0.68   \n",
       "2                 15.0                  54.0   0.9970  3.26       0.65   \n",
       "3                 17.0                  60.0   0.9980  3.16       0.58   \n",
       "4                 11.0                  34.0   0.9978  3.51       0.56   \n",
       "\n",
       "   alcohol  quality  \n",
       "0      9.4        5  \n",
       "1      9.8        5  \n",
       "2      9.8        5  \n",
       "3      9.8        6  \n",
       "4      9.4        5  "
      ]
     },
     "execution_count": 7,
     "metadata": {},
     "output_type": "execute_result"
    }
   ],
   "source": [
    "WineData.head()"
   ]
  },
  {
   "cell_type": "code",
   "execution_count": 8,
   "id": "a11185d1",
   "metadata": {},
   "outputs": [
    {
     "data": {
      "image/png": "[encoded data removed]",
      "text/plain": [
       "<Figure size 1008x432 with 1 Axes>"
      ]
     },
     "metadata": {
      "needs_background": "light"
     },
     "output_type": "display_data"
    }
   ],
   "source": [
    "#Plot distribution volatile acidity - of Cheking Histogram\n",
    "import matplotlib\n",
    "from matplotlib import pyplot \n",
    "%matplotlib inline\n",
    "pyplot.figure(figsize=(14,6))\n",
    "pyplot.hist(WineData['volatile acidity'])\n",
    "pyplot.show()"
   ]
  },
  {
   "cell_type": "markdown",
   "id": "4aa88551",
   "metadata": {},
   "source": [
    "## Test Normality of data"
   ]
  },
  {
   "cell_type": "code",
   "execution_count": 12,
   "id": "8a00b452",
   "metadata": {},
   "outputs": [],
   "source": [
    "DataToTest = WineData['volatile acidity']"
   ]
  },
  {
   "cell_type": "code",
   "execution_count": 36,
   "id": "4a8b9326",
   "metadata": {},
   "outputs": [],
   "source": [
    "def normal_shapiro (dataset):\n",
    "    stat, p = shapiro(DataToTest)\n",
    "    print('stat=%.2f, p=%.30f' % (stat, p))\n",
    "    if p > 0.05:\n",
    "        print('Normal distribution')\n",
    "    else:\n",
    "        print('Not a normal distribution')"
   ]
  },
  {
   "cell_type": "code",
   "execution_count": 37,
   "id": "1f269b74",
   "metadata": {},
   "outputs": [
    {
     "name": "stdout",
     "output_type": "stream",
     "text": [
      "stat=0.97, p=0.000000000000000268680677283857\n",
      "Not a normal distribution\n"
     ]
    }
   ],
   "source": [
    "normal_shapiro(DataToTest)"
   ]
  },
  {
   "cell_type": "markdown",
   "id": "f56c41c8",
   "metadata": {},
   "source": [
    "## Try a new test"
   ]
  },
  {
   "cell_type": "code",
   "execution_count": 31,
   "id": "56d0ffa2",
   "metadata": {},
   "outputs": [],
   "source": [
    "#gerente 200 random values normal distributed\n",
    "DataToTest = randn(200)"
   ]
  },
  {
   "cell_type": "code",
   "execution_count": 33,
   "id": "dfdb1644",
   "metadata": {},
   "outputs": [
    {
     "data": {
      "text/plain": [
       "<AxesSubplot:ylabel='Density'>"
      ]
     },
     "execution_count": 33,
     "metadata": {},
     "output_type": "execute_result"
    },
    {
     "data": {
      "image/png": "[encoded data removed]",
      "text/plain": [
       "<Figure size 432x288 with 1 Axes>"
      ]
     },
     "metadata": {
      "needs_background": "light"
     },
     "output_type": "display_data"
    }
   ],
   "source": [
    "sns.kdeplot(DataToTest)"
   ]
  },
  {
   "cell_type": "code",
   "execution_count": 38,
   "id": "91b5ec88",
   "metadata": {},
   "outputs": [
    {
     "name": "stdout",
     "output_type": "stream",
     "text": [
      "stat=0.97, p=0.000000000000000268680677283857\n",
      "Not a normal distribution\n"
     ]
    }
   ],
   "source": [
    "normal_shapiro(DataToTest)"
   ]
  },
  {
   "cell_type": "markdown",
   "id": "7b5254f9",
   "metadata": {},
   "source": [
    "# Chi-squared Normality Test"
   ]
  },
  {
   "cell_type": "markdown",
   "id": "31a09f19",
   "metadata": {},
   "source": [
    "Assumption: all observations are identically distrubuted, so all elements in the test have equally probability to occur, which means that every element ahould appear the same amount of times as others\n"
   ]
  },
  {
   "cell_type": "code",
   "execution_count": 35,
   "id": "8e673540",
   "metadata": {},
   "outputs": [],
   "source": [
    "DataToTest = WineData['volatile acidity']"
   ]
  },
  {
   "cell_type": "code",
   "execution_count": 45,
   "id": "82a0c612",
   "metadata": {},
   "outputs": [],
   "source": [
    "def normal_chi_squared (dataset):\n",
    "    stat, p = normaltest(DataToTest)\n",
    "    print('stat=%.2f, p=%.30f' % (stat, p))\n",
    "    if p > 0.05:\n",
    "        print('Normal distribution')\n",
    "    else:\n",
    "        print('Not a normal distribution')"
   ]
  },
  {
   "cell_type": "code",
   "execution_count": 46,
   "id": "2e707d57",
   "metadata": {},
   "outputs": [
    {
     "name": "stdout",
     "output_type": "stream",
     "text": [
      "stat=143.42, p=0.000000000000000000000000000000\n",
      "Not a normal distribution\n"
     ]
    }
   ],
   "source": [
    "normal_chi_squared(DataToTest)"
   ]
  },
  {
   "cell_type": "markdown",
   "id": "a08812ca",
   "metadata": {},
   "source": [
    "# Correlation Test"
   ]
  },
  {
   "cell_type": "markdown",
   "id": "d6eb9b1a",
   "metadata": {},
   "source": [
    "## Pearson and Spearman's Rank Correlation"
   ]
  },
  {
   "cell_type": "markdown",
   "id": "2f9b0eea",
   "metadata": {},
   "source": [
    "### Ex 1: total sulfur dioxide vs pH"
   ]
  },
  {
   "cell_type": "code",
   "execution_count": 51,
   "id": "864aad27",
   "metadata": {},
   "outputs": [],
   "source": [
    "FirstSample = WineData[1:30]['total sulfur dioxide']\n",
    "SecondSample = WineData[1:30]['pH']"
   ]
  },
  {
   "cell_type": "code",
   "execution_count": 54,
   "id": "07c7294f",
   "metadata": {},
   "outputs": [
    {
     "data": {
      "image/png": "[encoded data removed]",
      "text/plain": [
       "<Figure size 432x288 with 1 Axes>"
      ]
     },
     "metadata": {
      "needs_background": "light"
     },
     "output_type": "display_data"
    }
   ],
   "source": [
    "plt.scatter(FirstSample,SecondSample)\n",
    "plt.xlabel('total sulfur dioxide')\n",
    "plt.ylabel('pH')\n",
    "plt.show()"
   ]
  },
  {
   "cell_type": "markdown",
   "id": "1fa289b6",
   "metadata": {},
   "source": [
    "### Spearman"
   ]
  },
  {
   "cell_type": "code",
   "execution_count": 57,
   "id": "0d0e5a76",
   "metadata": {},
   "outputs": [],
   "source": [
    "from scipy.stats import spearmanr\n",
    "\n",
    "def spearman_correlation(var1,var2):\n",
    "    stat, p = spearmanr(var1,var2)\n",
    "\n",
    "    print('stat=%.3f, p=%5f' % (stat, p))\n",
    "    if p > 0.05:\n",
    "        print('independent samples')\n",
    "    else:\n",
    "        print('dependent samples')"
   ]
  },
  {
   "cell_type": "code",
   "execution_count": 58,
   "id": "693cb527",
   "metadata": {},
   "outputs": [
    {
     "name": "stdout",
     "output_type": "stream",
     "text": [
      "stat=-0.258, p=0.176021\n",
      "independent samples\n"
     ]
    }
   ],
   "source": [
    "spearman_correlation(FirstSample, SecondSample)"
   ]
  },
  {
   "cell_type": "markdown",
   "id": "8666c2ad",
   "metadata": {},
   "source": [
    "### Pearson"
   ]
  },
  {
   "cell_type": "code",
   "execution_count": 59,
   "id": "da64dae7",
   "metadata": {},
   "outputs": [],
   "source": [
    "from scipy.stats import pearsonr\n",
    "\n",
    "def pearson_correlation (var1,var2):\n",
    "    stat, p = pearsonr(var1,var2)\n",
    "\n",
    "    print('stat=%.3f, p=%5f' % (stat, p))\n",
    "    if p > 0.05:\n",
    "        print('independent samples')\n",
    "    else:\n",
    "        print('dependent samples')"
   ]
  },
  {
   "cell_type": "code",
   "execution_count": 61,
   "id": "68e14f1a",
   "metadata": {},
   "outputs": [
    {
     "name": "stdout",
     "output_type": "stream",
     "text": [
      "stat=-0.280, p=0.141081\n",
      "independent samples\n"
     ]
    }
   ],
   "source": [
    "pearson_correlation(FirstSample, SecondSample)"
   ]
  },
  {
   "cell_type": "markdown",
   "id": "47cfec7b",
   "metadata": {},
   "source": [
    "### Look at correlation between variables to take 2 correlated"
   ]
  },
  {
   "cell_type": "code",
   "execution_count": 63,
   "id": "e17dc6ed",
   "metadata": {},
   "outputs": [
    {
     "data": {
      "text/html": [
       "<div>\n",
       "<style scoped>\n",
       "    .dataframe tbody tr th:only-of-type {\n",
       "        vertical-align: middle;\n",
       "    }\n",
       "\n",
       "    .dataframe tbody tr th {\n",
       "        vertical-align: top;\n",
       "    }\n",
       "\n",
       "    .dataframe thead th {\n",
       "        text-align: right;\n",
       "    }\n",
       "</style>\n",
       "<table border=\"1\" class=\"dataframe\">\n",
       "  <thead>\n",
       "    <tr style=\"text-align: right;\">\n",
       "      <th></th>\n",
       "      <th>fixed acidity</th>\n",
       "      <th>volatile acidity</th>\n",
       "      <th>citric acid</th>\n",
       "      <th>residual sugar</th>\n",
       "      <th>chlorides</th>\n",
       "      <th>free sulfur dioxide</th>\n",
       "      <th>total sulfur dioxide</th>\n",
       "      <th>density</th>\n",
       "      <th>pH</th>\n",
       "      <th>sulphates</th>\n",
       "      <th>alcohol</th>\n",
       "      <th>quality</th>\n",
       "    </tr>\n",
       "  </thead>\n",
       "  <tbody>\n",
       "    <tr>\n",
       "      <th>fixed acidity</th>\n",
       "      <td>1.000000</td>\n",
       "      <td>-0.325296</td>\n",
       "      <td>0.553331</td>\n",
       "      <td>0.064789</td>\n",
       "      <td>0.145997</td>\n",
       "      <td>0.369643</td>\n",
       "      <td>0.351803</td>\n",
       "      <td>0.558823</td>\n",
       "      <td>-0.554355</td>\n",
       "      <td>0.176146</td>\n",
       "      <td>-0.014915</td>\n",
       "      <td>0.232732</td>\n",
       "    </tr>\n",
       "    <tr>\n",
       "      <th>volatile acidity</th>\n",
       "      <td>-0.325296</td>\n",
       "      <td>1.000000</td>\n",
       "      <td>-0.808892</td>\n",
       "      <td>0.086848</td>\n",
       "      <td>-0.086997</td>\n",
       "      <td>-0.046489</td>\n",
       "      <td>-0.045020</td>\n",
       "      <td>-0.018832</td>\n",
       "      <td>0.176232</td>\n",
       "      <td>-0.058765</td>\n",
       "      <td>-0.116946</td>\n",
       "      <td>-0.323907</td>\n",
       "    </tr>\n",
       "    <tr>\n",
       "      <th>citric acid</th>\n",
       "      <td>0.553331</td>\n",
       "      <td>-0.808892</td>\n",
       "      <td>1.000000</td>\n",
       "      <td>0.163451</td>\n",
       "      <td>0.302150</td>\n",
       "      <td>0.273691</td>\n",
       "      <td>0.356156</td>\n",
       "      <td>0.321183</td>\n",
       "      <td>-0.402765</td>\n",
       "      <td>0.404090</td>\n",
       "      <td>0.247358</td>\n",
       "      <td>0.246825</td>\n",
       "    </tr>\n",
       "    <tr>\n",
       "      <th>residual sugar</th>\n",
       "      <td>0.064789</td>\n",
       "      <td>0.086848</td>\n",
       "      <td>0.163451</td>\n",
       "      <td>1.000000</td>\n",
       "      <td>-0.069497</td>\n",
       "      <td>0.278564</td>\n",
       "      <td>0.580704</td>\n",
       "      <td>0.524667</td>\n",
       "      <td>-0.011351</td>\n",
       "      <td>0.074962</td>\n",
       "      <td>0.358012</td>\n",
       "      <td>-0.324054</td>\n",
       "    </tr>\n",
       "    <tr>\n",
       "      <th>chlorides</th>\n",
       "      <td>0.145997</td>\n",
       "      <td>-0.086997</td>\n",
       "      <td>0.302150</td>\n",
       "      <td>-0.069497</td>\n",
       "      <td>1.000000</td>\n",
       "      <td>0.226563</td>\n",
       "      <td>0.211043</td>\n",
       "      <td>0.118830</td>\n",
       "      <td>-0.601472</td>\n",
       "      <td>0.644596</td>\n",
       "      <td>-0.342212</td>\n",
       "      <td>-0.037891</td>\n",
       "    </tr>\n",
       "    <tr>\n",
       "      <th>free sulfur dioxide</th>\n",
       "      <td>0.369643</td>\n",
       "      <td>-0.046489</td>\n",
       "      <td>0.273691</td>\n",
       "      <td>0.278564</td>\n",
       "      <td>0.226563</td>\n",
       "      <td>1.000000</td>\n",
       "      <td>0.854553</td>\n",
       "      <td>0.430067</td>\n",
       "      <td>-0.204240</td>\n",
       "      <td>0.156305</td>\n",
       "      <td>0.056671</td>\n",
       "      <td>0.120759</td>\n",
       "    </tr>\n",
       "    <tr>\n",
       "      <th>total sulfur dioxide</th>\n",
       "      <td>0.351803</td>\n",
       "      <td>-0.045020</td>\n",
       "      <td>0.356156</td>\n",
       "      <td>0.580704</td>\n",
       "      <td>0.211043</td>\n",
       "      <td>0.854553</td>\n",
       "      <td>1.000000</td>\n",
       "      <td>0.523186</td>\n",
       "      <td>-0.280118</td>\n",
       "      <td>0.210051</td>\n",
       "      <td>0.229037</td>\n",
       "      <td>-0.112902</td>\n",
       "    </tr>\n",
       "    <tr>\n",
       "      <th>density</th>\n",
       "      <td>0.558823</td>\n",
       "      <td>-0.018832</td>\n",
       "      <td>0.321183</td>\n",
       "      <td>0.524667</td>\n",
       "      <td>0.118830</td>\n",
       "      <td>0.430067</td>\n",
       "      <td>0.523186</td>\n",
       "      <td>1.000000</td>\n",
       "      <td>-0.181546</td>\n",
       "      <td>0.300643</td>\n",
       "      <td>-0.089917</td>\n",
       "      <td>-0.249689</td>\n",
       "    </tr>\n",
       "    <tr>\n",
       "      <th>pH</th>\n",
       "      <td>-0.554355</td>\n",
       "      <td>0.176232</td>\n",
       "      <td>-0.402765</td>\n",
       "      <td>-0.011351</td>\n",
       "      <td>-0.601472</td>\n",
       "      <td>-0.204240</td>\n",
       "      <td>-0.280118</td>\n",
       "      <td>-0.181546</td>\n",
       "      <td>1.000000</td>\n",
       "      <td>-0.539957</td>\n",
       "      <td>0.232744</td>\n",
       "      <td>0.007259</td>\n",
       "    </tr>\n",
       "    <tr>\n",
       "      <th>sulphates</th>\n",
       "      <td>0.176146</td>\n",
       "      <td>-0.058765</td>\n",
       "      <td>0.404090</td>\n",
       "      <td>0.074962</td>\n",
       "      <td>0.644596</td>\n",
       "      <td>0.156305</td>\n",
       "      <td>0.210051</td>\n",
       "      <td>0.300643</td>\n",
       "      <td>-0.539957</td>\n",
       "      <td>1.000000</td>\n",
       "      <td>-0.172364</td>\n",
       "      <td>-0.120335</td>\n",
       "    </tr>\n",
       "    <tr>\n",
       "      <th>alcohol</th>\n",
       "      <td>-0.014915</td>\n",
       "      <td>-0.116946</td>\n",
       "      <td>0.247358</td>\n",
       "      <td>0.358012</td>\n",
       "      <td>-0.342212</td>\n",
       "      <td>0.056671</td>\n",
       "      <td>0.229037</td>\n",
       "      <td>-0.089917</td>\n",
       "      <td>0.232744</td>\n",
       "      <td>-0.172364</td>\n",
       "      <td>1.000000</td>\n",
       "      <td>0.377116</td>\n",
       "    </tr>\n",
       "    <tr>\n",
       "      <th>quality</th>\n",
       "      <td>0.232732</td>\n",
       "      <td>-0.323907</td>\n",
       "      <td>0.246825</td>\n",
       "      <td>-0.324054</td>\n",
       "      <td>-0.037891</td>\n",
       "      <td>0.120759</td>\n",
       "      <td>-0.112902</td>\n",
       "      <td>-0.249689</td>\n",
       "      <td>0.007259</td>\n",
       "      <td>-0.120335</td>\n",
       "      <td>0.377116</td>\n",
       "      <td>1.000000</td>\n",
       "    </tr>\n",
       "  </tbody>\n",
       "</table>\n",
       "</div>"
      ],
      "text/plain": [
       "                      fixed acidity  volatile acidity  citric acid  \\\n",
       "fixed acidity              1.000000         -0.325296     0.553331   \n",
       "volatile acidity          -0.325296          1.000000    -0.808892   \n",
       "citric acid                0.553331         -0.808892     1.000000   \n",
       "residual sugar             0.064789          0.086848     0.163451   \n",
       "chlorides                  0.145997         -0.086997     0.302150   \n",
       "free sulfur dioxide        0.369643         -0.046489     0.273691   \n",
       "total sulfur dioxide       0.351803         -0.045020     0.356156   \n",
       "density                    0.558823         -0.018832     0.321183   \n",
       "pH                        -0.554355          0.176232    -0.402765   \n",
       "sulphates                  0.176146         -0.058765     0.404090   \n",
       "alcohol                   -0.014915         -0.116946     0.247358   \n",
       "quality                    0.232732         -0.323907     0.246825   \n",
       "\n",
       "                      residual sugar  chlorides  free sulfur dioxide  \\\n",
       "fixed acidity               0.064789   0.145997             0.369643   \n",
       "volatile acidity            0.086848  -0.086997            -0.046489   \n",
       "citric acid                 0.163451   0.302150             0.273691   \n",
       "residual sugar              1.000000  -0.069497             0.278564   \n",
       "chlorides                  -0.069497   1.000000             0.226563   \n",
       "free sulfur dioxide         0.278564   0.226563             1.000000   \n",
       "total sulfur dioxide        0.580704   0.211043             0.854553   \n",
       "density                     0.524667   0.118830             0.430067   \n",
       "pH                         -0.011351  -0.601472            -0.204240   \n",
       "sulphates                   0.074962   0.644596             0.156305   \n",
       "alcohol                     0.358012  -0.342212             0.056671   \n",
       "quality                    -0.324054  -0.037891             0.120759   \n",
       "\n",
       "                      total sulfur dioxide   density        pH  sulphates  \\\n",
       "fixed acidity                     0.351803  0.558823 -0.554355   0.176146   \n",
       "volatile acidity                 -0.045020 -0.018832  0.176232  -0.058765   \n",
       "citric acid                       0.356156  0.321183 -0.402765   0.404090   \n",
       "residual sugar                    0.580704  0.524667 -0.011351   0.074962   \n",
       "chlorides                         0.211043  0.118830 -0.601472   0.644596   \n",
       "free sulfur dioxide               0.854553  0.430067 -0.204240   0.156305   \n",
       "total sulfur dioxide              1.000000  0.523186 -0.280118   0.210051   \n",
       "density                           0.523186  1.000000 -0.181546   0.300643   \n",
       "pH                               -0.280118 -0.181546  1.000000  -0.539957   \n",
       "sulphates                         0.210051  0.300643 -0.539957   1.000000   \n",
       "alcohol                           0.229037 -0.089917  0.232744  -0.172364   \n",
       "quality                          -0.112902 -0.249689  0.007259  -0.120335   \n",
       "\n",
       "                       alcohol   quality  \n",
       "fixed acidity        -0.014915  0.232732  \n",
       "volatile acidity     -0.116946 -0.323907  \n",
       "citric acid           0.247358  0.246825  \n",
       "residual sugar        0.358012 -0.324054  \n",
       "chlorides            -0.342212 -0.037891  \n",
       "free sulfur dioxide   0.056671  0.120759  \n",
       "total sulfur dioxide  0.229037 -0.112902  \n",
       "density              -0.089917 -0.249689  \n",
       "pH                    0.232744  0.007259  \n",
       "sulphates            -0.172364 -0.120335  \n",
       "alcohol               1.000000  0.377116  \n",
       "quality               0.377116  1.000000  "
      ]
     },
     "execution_count": 63,
     "metadata": {},
     "output_type": "execute_result"
    }
   ],
   "source": [
    "WineData[1:30].corr(method=\"pearson\")"
   ]
  },
  {
   "cell_type": "markdown",
   "id": "4ea478b5",
   "metadata": {},
   "source": [
    "### Ex 1: total sulfur dioxide vs free sulfur dioxide"
   ]
  },
  {
   "cell_type": "code",
   "execution_count": 64,
   "id": "3b24eb6e",
   "metadata": {},
   "outputs": [],
   "source": [
    "FirstSample = WineData[1:30]['total sulfur dioxide']\n",
    "SecondSample = WineData[1:30]['free sulfur dioxide']"
   ]
  },
  {
   "cell_type": "code",
   "execution_count": 65,
   "id": "bd007791",
   "metadata": {},
   "outputs": [
    {
     "data": {
      "image/png": "[encoded data removed]",
      "text/plain": [
       "<Figure size 432x288 with 1 Axes>"
      ]
     },
     "metadata": {
      "needs_background": "light"
     },
     "output_type": "display_data"
    }
   ],
   "source": [
    "plt.scatter(FirstSample,SecondSample)\n",
    "plt.xlabel('total sulfur dioxide')\n",
    "plt.ylabel('free sulfur dioxide')\n",
    "plt.show()"
   ]
  },
  {
   "cell_type": "markdown",
   "id": "fcc14e6f",
   "metadata": {},
   "source": [
    "### Spearman"
   ]
  },
  {
   "cell_type": "code",
   "execution_count": 66,
   "id": "d21747a0",
   "metadata": {},
   "outputs": [
    {
     "name": "stdout",
     "output_type": "stream",
     "text": [
      "stat=0.805, p=0.000000\n",
      "dependent samples\n"
     ]
    }
   ],
   "source": [
    "spearman_correlation(FirstSample, SecondSample)"
   ]
  },
  {
   "cell_type": "markdown",
   "id": "be4f198d",
   "metadata": {},
   "source": [
    "### Pearson"
   ]
  },
  {
   "cell_type": "code",
   "execution_count": 67,
   "id": "9dc42b3a",
   "metadata": {},
   "outputs": [
    {
     "name": "stdout",
     "output_type": "stream",
     "text": [
      "stat=0.855, p=0.000000\n",
      "dependent samples\n"
     ]
    }
   ],
   "source": [
    "pearson_correlation(FirstSample, SecondSample)"
   ]
  },
  {
   "cell_type": "markdown",
   "id": "c2aa820c",
   "metadata": {},
   "source": [
    "# Correlation of Categorical variables"
   ]
  },
  {
   "cell_type": "code",
   "execution_count": null,
   "id": "ddd73159",
   "metadata": {},
   "outputs": [],
   "source": []
  }
 ],
 "metadata": {
  "kernelspec": {
   "display_name": "Python 3 (ipykernel)",
   "language": "python",
   "name": "python3"
  },
  "language_info": {
   "codemirror_mode": {
    "name": "ipython",
    "version": 3
   },
   "file_extension": ".py",
   "mimetype": "text/x-python",
   "name": "python",
   "nbconvert_exporter": "python",
   "pygments_lexer": "ipython3",
   "version": "3.9.12"
  }
 },
 "nbformat": 4,
 "nbformat_minor": 5
}
