{
 "cells": [
  {
   "cell_type": "code",
   "execution_count": 19,
   "id": "f5d60668",
   "metadata": {},
   "outputs": [],
   "source": [
    "import numpy as np\n",
    "import pandas as pd\n",
    "from scipy import stats\n",
    "\n",
    "import matplotlib.pyplot as plt\n",
    "import seaborn as sns\n",
    "%matplotlib inline\n",
    "\n",
    "# For consistency\n",
    "seed = 3\n",
    "np.random.seed(3)"
   ]
  },
  {
   "cell_type": "markdown",
   "id": "89cc405b",
   "metadata": {},
   "source": [
    "## Create Data"
   ]
  },
  {
   "cell_type": "code",
   "execution_count": 4,
   "id": "97743c23",
   "metadata": {},
   "outputs": [
    {
     "data": {
      "text/html": [
       "<div>\n",
       "<style scoped>\n",
       "    .dataframe tbody tr th:only-of-type {\n",
       "        vertical-align: middle;\n",
       "    }\n",
       "\n",
       "    .dataframe tbody tr th {\n",
       "        vertical-align: top;\n",
       "    }\n",
       "\n",
       "    .dataframe thead th {\n",
       "        text-align: right;\n",
       "    }\n",
       "</style>\n",
       "<table border=\"1\" class=\"dataframe\">\n",
       "  <thead>\n",
       "    <tr style=\"text-align: right;\">\n",
       "      <th></th>\n",
       "      <th>ids</th>\n",
       "    </tr>\n",
       "  </thead>\n",
       "  <tbody>\n",
       "    <tr>\n",
       "      <th>0</th>\n",
       "      <td>0</td>\n",
       "    </tr>\n",
       "    <tr>\n",
       "      <th>1</th>\n",
       "      <td>1</td>\n",
       "    </tr>\n",
       "    <tr>\n",
       "      <th>2</th>\n",
       "      <td>2</td>\n",
       "    </tr>\n",
       "    <tr>\n",
       "      <th>3</th>\n",
       "      <td>3</td>\n",
       "    </tr>\n",
       "    <tr>\n",
       "      <th>4</th>\n",
       "      <td>4</td>\n",
       "    </tr>\n",
       "  </tbody>\n",
       "</table>\n",
       "</div>"
      ],
      "text/plain": [
       "   ids\n",
       "0    0\n",
       "1    1\n",
       "2    2\n",
       "3    3\n",
       "4    4"
      ]
     },
     "execution_count": 4,
     "metadata": {},
     "output_type": "execute_result"
    }
   ],
   "source": [
    "#create 8005 ids\n",
    "n = 8005\n",
    "sim_ids = np.arange(n)\n",
    "sim_df = pd.DataFrame(data=sim_ids,columns=['ids'] )\n",
    "sim_df.head()"
   ]
  },
  {
   "cell_type": "code",
   "execution_count": 5,
   "id": "7feefdbc",
   "metadata": {},
   "outputs": [
    {
     "data": {
      "text/html": [
       "<div>\n",
       "<style scoped>\n",
       "    .dataframe tbody tr th:only-of-type {\n",
       "        vertical-align: middle;\n",
       "    }\n",
       "\n",
       "    .dataframe tbody tr th {\n",
       "        vertical-align: top;\n",
       "    }\n",
       "\n",
       "    .dataframe thead th {\n",
       "        text-align: right;\n",
       "    }\n",
       "</style>\n",
       "<table border=\"1\" class=\"dataframe\">\n",
       "  <thead>\n",
       "    <tr style=\"text-align: right;\">\n",
       "      <th></th>\n",
       "      <th>ids</th>\n",
       "      <th>var1</th>\n",
       "      <th>var2</th>\n",
       "    </tr>\n",
       "  </thead>\n",
       "  <tbody>\n",
       "    <tr>\n",
       "      <th>0</th>\n",
       "      <td>0</td>\n",
       "      <td>8.943142</td>\n",
       "      <td>2.140698</td>\n",
       "    </tr>\n",
       "    <tr>\n",
       "      <th>1</th>\n",
       "      <td>1</td>\n",
       "      <td>2.182549</td>\n",
       "      <td>1.940463</td>\n",
       "    </tr>\n",
       "    <tr>\n",
       "      <th>2</th>\n",
       "      <td>2</td>\n",
       "      <td>0.482487</td>\n",
       "      <td>3.247036</td>\n",
       "    </tr>\n",
       "    <tr>\n",
       "      <th>3</th>\n",
       "      <td>3</td>\n",
       "      <td>-9.317464</td>\n",
       "      <td>4.436893</td>\n",
       "    </tr>\n",
       "    <tr>\n",
       "      <th>4</th>\n",
       "      <td>4</td>\n",
       "      <td>-1.386941</td>\n",
       "      <td>4.362662</td>\n",
       "    </tr>\n",
       "  </tbody>\n",
       "</table>\n",
       "</div>"
      ],
      "text/plain": [
       "   ids      var1      var2\n",
       "0    0  8.943142  2.140698\n",
       "1    1  2.182549  1.940463\n",
       "2    2  0.482487  3.247036\n",
       "3    3 -9.317464  4.436893\n",
       "4    4 -1.386941  4.362662"
      ]
     },
     "execution_count": 5,
     "metadata": {},
     "output_type": "execute_result"
    }
   ],
   "source": [
    "#create 2 random normal distributed variables to add in \"sim_df\"\n",
    "random_var1 = np.random.normal(0, 5, sim_ids.size)\n",
    "random_var2 = np.random.normal(4, 2, sim_ids.size)\n",
    "sim_df['var1'] = pd.Series(random_var1, index=sim_df.index)\n",
    "sim_df['var2'] = pd.Series(random_var2, index=sim_df.index)\n",
    "\n",
    "sim_df.head()"
   ]
  },
  {
   "cell_type": "markdown",
   "id": "158e7cf7",
   "metadata": {},
   "source": [
    "## Get a sample from population"
   ]
  },
  {
   "cell_type": "code",
   "execution_count": 7,
   "id": "c5fb9fb7",
   "metadata": {},
   "outputs": [
    {
     "data": {
      "text/html": [
       "<div>\n",
       "<style scoped>\n",
       "    .dataframe tbody tr th:only-of-type {\n",
       "        vertical-align: middle;\n",
       "    }\n",
       "\n",
       "    .dataframe tbody tr th {\n",
       "        vertical-align: top;\n",
       "    }\n",
       "\n",
       "    .dataframe thead th {\n",
       "        text-align: right;\n",
       "    }\n",
       "</style>\n",
       "<table border=\"1\" class=\"dataframe\">\n",
       "  <thead>\n",
       "    <tr style=\"text-align: right;\">\n",
       "      <th></th>\n",
       "      <th>ids</th>\n",
       "      <th>var1</th>\n",
       "      <th>var2</th>\n",
       "    </tr>\n",
       "  </thead>\n",
       "  <tbody>\n",
       "    <tr>\n",
       "      <th>count</th>\n",
       "      <td>320.000000</td>\n",
       "      <td>320.000000</td>\n",
       "      <td>320.000000</td>\n",
       "    </tr>\n",
       "    <tr>\n",
       "      <th>mean</th>\n",
       "      <td>3887.975000</td>\n",
       "      <td>-0.219594</td>\n",
       "      <td>3.900067</td>\n",
       "    </tr>\n",
       "    <tr>\n",
       "      <th>std</th>\n",
       "      <td>2326.532383</td>\n",
       "      <td>4.754532</td>\n",
       "      <td>1.972942</td>\n",
       "    </tr>\n",
       "    <tr>\n",
       "      <th>min</th>\n",
       "      <td>20.000000</td>\n",
       "      <td>-13.547422</td>\n",
       "      <td>-1.021899</td>\n",
       "    </tr>\n",
       "    <tr>\n",
       "      <th>25%</th>\n",
       "      <td>1906.250000</td>\n",
       "      <td>-3.572162</td>\n",
       "      <td>2.729417</td>\n",
       "    </tr>\n",
       "    <tr>\n",
       "      <th>50%</th>\n",
       "      <td>3669.000000</td>\n",
       "      <td>0.023301</td>\n",
       "      <td>3.854420</td>\n",
       "    </tr>\n",
       "    <tr>\n",
       "      <th>75%</th>\n",
       "      <td>5872.750000</td>\n",
       "      <td>3.221675</td>\n",
       "      <td>5.110317</td>\n",
       "    </tr>\n",
       "    <tr>\n",
       "      <th>max</th>\n",
       "      <td>7999.000000</td>\n",
       "      <td>11.494915</td>\n",
       "      <td>10.090702</td>\n",
       "    </tr>\n",
       "  </tbody>\n",
       "</table>\n",
       "</div>"
      ],
      "text/plain": [
       "               ids        var1        var2\n",
       "count   320.000000  320.000000  320.000000\n",
       "mean   3887.975000   -0.219594    3.900067\n",
       "std    2326.532383    4.754532    1.972942\n",
       "min      20.000000  -13.547422   -1.021899\n",
       "25%    1906.250000   -3.572162    2.729417\n",
       "50%    3669.000000    0.023301    3.854420\n",
       "75%    5872.750000    3.221675    5.110317\n",
       "max    7999.000000   11.494915   10.090702"
      ]
     },
     "execution_count": 7,
     "metadata": {},
     "output_type": "execute_result"
    }
   ],
   "source": [
    "# Getting a random sample of 320 records from the population\n",
    "n_samples = 320\n",
    "samples_df = sim_df.sample(n_samples, random_state=seed)\n",
    "samples_df.describe()"
   ]
  },
  {
   "cell_type": "markdown",
   "id": "7777f352",
   "metadata": {},
   "source": [
    "## Assign group (control or variant) to the sample"
   ]
  },
  {
   "cell_type": "code",
   "execution_count": 8,
   "id": "c115a51a",
   "metadata": {},
   "outputs": [
    {
     "data": {
      "text/html": [
       "<div>\n",
       "<style scoped>\n",
       "    .dataframe tbody tr th:only-of-type {\n",
       "        vertical-align: middle;\n",
       "    }\n",
       "\n",
       "    .dataframe tbody tr th {\n",
       "        vertical-align: top;\n",
       "    }\n",
       "\n",
       "    .dataframe thead th {\n",
       "        text-align: right;\n",
       "    }\n",
       "</style>\n",
       "<table border=\"1\" class=\"dataframe\">\n",
       "  <thead>\n",
       "    <tr style=\"text-align: right;\">\n",
       "      <th></th>\n",
       "      <th>ids</th>\n",
       "      <th>var1</th>\n",
       "      <th>var2</th>\n",
       "      <th>is_control</th>\n",
       "    </tr>\n",
       "  </thead>\n",
       "  <tbody>\n",
       "    <tr>\n",
       "      <th>count</th>\n",
       "      <td>320.000000</td>\n",
       "      <td>320.000000</td>\n",
       "      <td>320.000000</td>\n",
       "      <td>320.000000</td>\n",
       "    </tr>\n",
       "    <tr>\n",
       "      <th>mean</th>\n",
       "      <td>3887.975000</td>\n",
       "      <td>-0.219594</td>\n",
       "      <td>3.900067</td>\n",
       "      <td>0.503125</td>\n",
       "    </tr>\n",
       "    <tr>\n",
       "      <th>std</th>\n",
       "      <td>2326.532383</td>\n",
       "      <td>4.754532</td>\n",
       "      <td>1.972942</td>\n",
       "      <td>0.500773</td>\n",
       "    </tr>\n",
       "    <tr>\n",
       "      <th>min</th>\n",
       "      <td>20.000000</td>\n",
       "      <td>-13.547422</td>\n",
       "      <td>-1.021899</td>\n",
       "      <td>0.000000</td>\n",
       "    </tr>\n",
       "    <tr>\n",
       "      <th>25%</th>\n",
       "      <td>1906.250000</td>\n",
       "      <td>-3.572162</td>\n",
       "      <td>2.729417</td>\n",
       "      <td>0.000000</td>\n",
       "    </tr>\n",
       "    <tr>\n",
       "      <th>50%</th>\n",
       "      <td>3669.000000</td>\n",
       "      <td>0.023301</td>\n",
       "      <td>3.854420</td>\n",
       "      <td>1.000000</td>\n",
       "    </tr>\n",
       "    <tr>\n",
       "      <th>75%</th>\n",
       "      <td>5872.750000</td>\n",
       "      <td>3.221675</td>\n",
       "      <td>5.110317</td>\n",
       "      <td>1.000000</td>\n",
       "    </tr>\n",
       "    <tr>\n",
       "      <th>max</th>\n",
       "      <td>7999.000000</td>\n",
       "      <td>11.494915</td>\n",
       "      <td>10.090702</td>\n",
       "      <td>1.000000</td>\n",
       "    </tr>\n",
       "  </tbody>\n",
       "</table>\n",
       "</div>"
      ],
      "text/plain": [
       "               ids        var1        var2  is_control\n",
       "count   320.000000  320.000000  320.000000  320.000000\n",
       "mean   3887.975000   -0.219594    3.900067    0.503125\n",
       "std    2326.532383    4.754532    1.972942    0.500773\n",
       "min      20.000000  -13.547422   -1.021899    0.000000\n",
       "25%    1906.250000   -3.572162    2.729417    0.000000\n",
       "50%    3669.000000    0.023301    3.854420    1.000000\n",
       "75%    5872.750000    3.221675    5.110317    1.000000\n",
       "max    7999.000000   11.494915   10.090702    1.000000"
      ]
     },
     "execution_count": 8,
     "metadata": {},
     "output_type": "execute_result"
    }
   ],
   "source": [
    "is_control = np.random.choice([0,1], size=n_samples)\n",
    "samples_df = samples_df.assign(is_control=is_control)\n",
    "samples_df.describe()"
   ]
  },
  {
   "cell_type": "code",
   "execution_count": 9,
   "id": "df9f0a6e",
   "metadata": {},
   "outputs": [
    {
     "data": {
      "text/html": [
       "<div>\n",
       "<style scoped>\n",
       "    .dataframe tbody tr th:only-of-type {\n",
       "        vertical-align: middle;\n",
       "    }\n",
       "\n",
       "    .dataframe tbody tr th {\n",
       "        vertical-align: top;\n",
       "    }\n",
       "\n",
       "    .dataframe thead th {\n",
       "        text-align: right;\n",
       "    }\n",
       "</style>\n",
       "<table border=\"1\" class=\"dataframe\">\n",
       "  <thead>\n",
       "    <tr style=\"text-align: right;\">\n",
       "      <th></th>\n",
       "      <th>ids</th>\n",
       "      <th>var1</th>\n",
       "      <th>var2</th>\n",
       "      <th>is_control</th>\n",
       "    </tr>\n",
       "  </thead>\n",
       "  <tbody>\n",
       "    <tr>\n",
       "      <th>4806</th>\n",
       "      <td>4806</td>\n",
       "      <td>0.057253</td>\n",
       "      <td>4.055807</td>\n",
       "      <td>0</td>\n",
       "    </tr>\n",
       "    <tr>\n",
       "      <th>3238</th>\n",
       "      <td>3238</td>\n",
       "      <td>4.342792</td>\n",
       "      <td>3.098467</td>\n",
       "      <td>1</td>\n",
       "    </tr>\n",
       "    <tr>\n",
       "      <th>1646</th>\n",
       "      <td>1646</td>\n",
       "      <td>1.614547</td>\n",
       "      <td>3.693947</td>\n",
       "      <td>1</td>\n",
       "    </tr>\n",
       "    <tr>\n",
       "      <th>7697</th>\n",
       "      <td>7697</td>\n",
       "      <td>2.376105</td>\n",
       "      <td>5.130229</td>\n",
       "      <td>0</td>\n",
       "    </tr>\n",
       "    <tr>\n",
       "      <th>5316</th>\n",
       "      <td>5316</td>\n",
       "      <td>-8.168120</td>\n",
       "      <td>3.359191</td>\n",
       "      <td>0</td>\n",
       "    </tr>\n",
       "  </tbody>\n",
       "</table>\n",
       "</div>"
      ],
      "text/plain": [
       "       ids      var1      var2  is_control\n",
       "4806  4806  0.057253  4.055807           0\n",
       "3238  3238  4.342792  3.098467           1\n",
       "1646  1646  1.614547  3.693947           1\n",
       "7697  7697  2.376105  5.130229           0\n",
       "5316  5316 -8.168120  3.359191           0"
      ]
     },
     "execution_count": 9,
     "metadata": {},
     "output_type": "execute_result"
    }
   ],
   "source": [
    "samples_df.head()"
   ]
  },
  {
   "cell_type": "markdown",
   "id": "39f94b6b",
   "metadata": {},
   "source": [
    "## Plot visually the distributions"
   ]
  },
  {
   "cell_type": "markdown",
   "id": "b3c63bec",
   "metadata": {},
   "source": [
    "### Variable 1"
   ]
  },
  {
   "cell_type": "code",
   "execution_count": 18,
   "id": "a5baf073",
   "metadata": {},
   "outputs": [
    {
     "data": {
      "text/plain": [
       "<matplotlib.legend.Legend at 0x7fc6a9a60850>"
      ]
     },
     "execution_count": 18,
     "metadata": {},
     "output_type": "execute_result"
    },
    {
     "data": {
      "image/png": "[encoded data removed]",
      "text/plain": [
       "<Figure size 432x288 with 1 Axes>"
      ]
     },
     "metadata": {
      "needs_background": "light"
     },
     "output_type": "display_data"
    }
   ],
   "source": [
    "sns.kdeplot(samples_df[samples_df.is_control == 0].var1, label='var1')\n",
    "sns.kdeplot(samples_df[samples_df.is_control == 1].var1, label='var2')\n",
    "plt.legend()"
   ]
  },
  {
   "cell_type": "markdown",
   "id": "70d978ed",
   "metadata": {},
   "source": [
    "### Variable 2"
   ]
  },
  {
   "cell_type": "code",
   "execution_count": 17,
   "id": "5c67a53b",
   "metadata": {},
   "outputs": [
    {
     "data": {
      "text/plain": [
       "<matplotlib.legend.Legend at 0x7fc6c849e520>"
      ]
     },
     "execution_count": 17,
     "metadata": {},
     "output_type": "execute_result"
    },
    {
     "data": {
      "image/png": "[encoded data removed]",
      "text/plain": [
       "<Figure size 432x288 with 1 Axes>"
      ]
     },
     "metadata": {
      "needs_background": "light"
     },
     "output_type": "display_data"
    }
   ],
   "source": [
    "sns.kdeplot(samples_df[samples_df.is_control == 0].var2, label='var1')\n",
    "sns.kdeplot(samples_df[samples_df.is_control == 1].var2, label='var2')\n",
    "plt.legend()"
   ]
  },
  {
   "cell_type": "markdown",
   "id": "47fc4841",
   "metadata": {},
   "source": [
    "### Variable 1 and Variable 2"
   ]
  },
  {
   "cell_type": "code",
   "execution_count": 16,
   "id": "d3078b99",
   "metadata": {},
   "outputs": [
    {
     "data": {
      "text/plain": [
       "<matplotlib.legend.Legend at 0x7fc668139fd0>"
      ]
     },
     "execution_count": 16,
     "metadata": {},
     "output_type": "execute_result"
    },
    {
     "data": {
      "image/png": "[encoded data removed]",
      "text/plain": [
       "<Figure size 432x288 with 1 Axes>"
      ]
     },
     "metadata": {
      "needs_background": "light"
     },
     "output_type": "display_data"
    }
   ],
   "source": [
    "sns.kdeplot(samples_df.var1,label='var1')\n",
    "sns.kdeplot(samples_df.var2,label='var2')\n",
    "plt.legend()"
   ]
  },
  {
   "cell_type": "markdown",
   "id": "d85e5226",
   "metadata": {},
   "source": [
    "## Hypothesis Test"
   ]
  },
  {
   "cell_type": "code",
   "execution_count": 21,
   "id": "33ba8db0",
   "metadata": {},
   "outputs": [],
   "source": [
    "alpha = 0.05"
   ]
  },
  {
   "cell_type": "code",
   "execution_count": 22,
   "id": "a5ddae87",
   "metadata": {},
   "outputs": [],
   "source": [
    "def is_significant(group1, group2, alpha):    \n",
    "    t,p = stats.ttest_ind(group1,group2,equal_var=False)\n",
    "    return p<alpha, p"
   ]
  },
  {
   "cell_type": "code",
   "execution_count": 23,
   "id": "9b0326e1",
   "metadata": {},
   "outputs": [],
   "source": [
    "def experiment_vs_control(df, var_name, alpha):\n",
    "    \n",
    "    experiment = df[df.is_control == 0][var_name]\n",
    "    control = df[df.is_control == 1][var_name]\n",
    "    \n",
    "    return is_significant(experiment, control, alpha)"
   ]
  },
  {
   "cell_type": "markdown",
   "id": "259919c0",
   "metadata": {},
   "source": [
    "### AB Test Variable 1"
   ]
  },
  {
   "cell_type": "code",
   "execution_count": 25,
   "id": "54d2695a",
   "metadata": {},
   "outputs": [
    {
     "data": {
      "text/plain": [
       "(False, 0.3291638625540293)"
      ]
     },
     "execution_count": 25,
     "metadata": {},
     "output_type": "execute_result"
    }
   ],
   "source": [
    "experiment_vs_control(samples_df, 'var1', alpha)"
   ]
  },
  {
   "cell_type": "markdown",
   "id": "6d257851",
   "metadata": {},
   "source": [
    "### AB Test Variable 2"
   ]
  },
  {
   "cell_type": "code",
   "execution_count": 27,
   "id": "1d60e116",
   "metadata": {},
   "outputs": [
    {
     "data": {
      "text/plain": [
       "(False, 0.3291638625540293)"
      ]
     },
     "execution_count": 27,
     "metadata": {},
     "output_type": "execute_result"
    }
   ],
   "source": [
    "experiment_vs_control(samples_df, 'var1', alpha)"
   ]
  },
  {
   "cell_type": "markdown",
   "id": "edb9d9a8",
   "metadata": {},
   "source": [
    "## Conclusion\n",
    "### We can't reject the Null hp that the two samples are equally distributed"
   ]
  },
  {
   "cell_type": "code",
   "execution_count": null,
   "id": "3bd509be",
   "metadata": {},
   "outputs": [],
   "source": []
  }
 ],
 "metadata": {
  "kernelspec": {
   "display_name": "Python 3 (ipykernel)",
   "language": "python",
   "name": "python3"
  },
  "language_info": {
   "codemirror_mode": {
    "name": "ipython",
    "version": 3
   },
   "file_extension": ".py",
   "mimetype": "text/x-python",
   "name": "python",
   "nbconvert_exporter": "python",
   "pygments_lexer": "ipython3",
   "version": "3.9.12"
  }
 },
 "nbformat": 4,
 "nbformat_minor": 5
}
