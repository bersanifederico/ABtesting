{
 "cells": [
  {
   "cell_type": "code",
   "execution_count": 42,
   "id": "071ea21b",
   "metadata": {},
   "outputs": [],
   "source": [
    "import pandas as pd\n",
    "import matplotlib\n",
    "import numpy as np\n",
    "from matplotlib import pyplot \n",
    "from scipy.stats import shapiro\n",
    "from numpy.random import randn\n",
    "from scipy.stats import normaltest\n",
    "\n",
    "import matplotlib.pyplot as plt\n",
    "import seaborn as sns\n",
    "%matplotlib inline"
   ]
  },
  {
   "cell_type": "code",
   "execution_count": 2,
   "id": "2551d0c3",
   "metadata": {},
   "outputs": [],
   "source": [
    "import random\n",
    "seed = 3\n",
    "random.seed(seed)"
   ]
  },
  {
   "cell_type": "markdown",
   "id": "de58c097",
   "metadata": {},
   "source": [
    "## Import data"
   ]
  },
  {
   "cell_type": "code",
   "execution_count": 3,
   "id": "2620f0f6",
   "metadata": {},
   "outputs": [],
   "source": [
    "WineData = pd.read_csv(\"/Users/federicobersani/Desktop/ABtesting/data/winequality-red.csv\", sep=\";\")"
   ]
  },
  {
   "cell_type": "code",
   "execution_count": 4,
   "id": "88c41f6e",
   "metadata": {},
   "outputs": [
    {
     "data": {
      "text/html": [
       "<div>\n",
       "<style scoped>\n",
       "    .dataframe tbody tr th:only-of-type {\n",
       "        vertical-align: middle;\n",
       "    }\n",
       "\n",
       "    .dataframe tbody tr th {\n",
       "        vertical-align: top;\n",
       "    }\n",
       "\n",
       "    .dataframe thead th {\n",
       "        text-align: right;\n",
       "    }\n",
       "</style>\n",
       "<table border=\"1\" class=\"dataframe\">\n",
       "  <thead>\n",
       "    <tr style=\"text-align: right;\">\n",
       "      <th></th>\n",
       "      <th>fixed acidity</th>\n",
       "      <th>volatile acidity</th>\n",
       "      <th>citric acid</th>\n",
       "      <th>residual sugar</th>\n",
       "      <th>chlorides</th>\n",
       "      <th>free sulfur dioxide</th>\n",
       "      <th>total sulfur dioxide</th>\n",
       "      <th>density</th>\n",
       "      <th>pH</th>\n",
       "      <th>sulphates</th>\n",
       "      <th>alcohol</th>\n",
       "      <th>quality</th>\n",
       "    </tr>\n",
       "  </thead>\n",
       "  <tbody>\n",
       "    <tr>\n",
       "      <th>0</th>\n",
       "      <td>7.4</td>\n",
       "      <td>0.70</td>\n",
       "      <td>0.00</td>\n",
       "      <td>1.9</td>\n",
       "      <td>0.076</td>\n",
       "      <td>11.0</td>\n",
       "      <td>34.0</td>\n",
       "      <td>0.9978</td>\n",
       "      <td>3.51</td>\n",
       "      <td>0.56</td>\n",
       "      <td>9.4</td>\n",
       "      <td>5</td>\n",
       "    </tr>\n",
       "    <tr>\n",
       "      <th>1</th>\n",
       "      <td>7.8</td>\n",
       "      <td>0.88</td>\n",
       "      <td>0.00</td>\n",
       "      <td>2.6</td>\n",
       "      <td>0.098</td>\n",
       "      <td>25.0</td>\n",
       "      <td>67.0</td>\n",
       "      <td>0.9968</td>\n",
       "      <td>3.20</td>\n",
       "      <td>0.68</td>\n",
       "      <td>9.8</td>\n",
       "      <td>5</td>\n",
       "    </tr>\n",
       "    <tr>\n",
       "      <th>2</th>\n",
       "      <td>7.8</td>\n",
       "      <td>0.76</td>\n",
       "      <td>0.04</td>\n",
       "      <td>2.3</td>\n",
       "      <td>0.092</td>\n",
       "      <td>15.0</td>\n",
       "      <td>54.0</td>\n",
       "      <td>0.9970</td>\n",
       "      <td>3.26</td>\n",
       "      <td>0.65</td>\n",
       "      <td>9.8</td>\n",
       "      <td>5</td>\n",
       "    </tr>\n",
       "    <tr>\n",
       "      <th>3</th>\n",
       "      <td>11.2</td>\n",
       "      <td>0.28</td>\n",
       "      <td>0.56</td>\n",
       "      <td>1.9</td>\n",
       "      <td>0.075</td>\n",
       "      <td>17.0</td>\n",
       "      <td>60.0</td>\n",
       "      <td>0.9980</td>\n",
       "      <td>3.16</td>\n",
       "      <td>0.58</td>\n",
       "      <td>9.8</td>\n",
       "      <td>6</td>\n",
       "    </tr>\n",
       "    <tr>\n",
       "      <th>4</th>\n",
       "      <td>7.4</td>\n",
       "      <td>0.70</td>\n",
       "      <td>0.00</td>\n",
       "      <td>1.9</td>\n",
       "      <td>0.076</td>\n",
       "      <td>11.0</td>\n",
       "      <td>34.0</td>\n",
       "      <td>0.9978</td>\n",
       "      <td>3.51</td>\n",
       "      <td>0.56</td>\n",
       "      <td>9.4</td>\n",
       "      <td>5</td>\n",
       "    </tr>\n",
       "  </tbody>\n",
       "</table>\n",
       "</div>"
      ],
      "text/plain": [
       "   fixed acidity  volatile acidity  citric acid  residual sugar  chlorides  \\\n",
       "0            7.4              0.70         0.00             1.9      0.076   \n",
       "1            7.8              0.88         0.00             2.6      0.098   \n",
       "2            7.8              0.76         0.04             2.3      0.092   \n",
       "3           11.2              0.28         0.56             1.9      0.075   \n",
       "4            7.4              0.70         0.00             1.9      0.076   \n",
       "\n",
       "   free sulfur dioxide  total sulfur dioxide  density    pH  sulphates  \\\n",
       "0                 11.0                  34.0   0.9978  3.51       0.56   \n",
       "1                 25.0                  67.0   0.9968  3.20       0.68   \n",
       "2                 15.0                  54.0   0.9970  3.26       0.65   \n",
       "3                 17.0                  60.0   0.9980  3.16       0.58   \n",
       "4                 11.0                  34.0   0.9978  3.51       0.56   \n",
       "\n",
       "   alcohol  quality  \n",
       "0      9.4        5  \n",
       "1      9.8        5  \n",
       "2      9.8        5  \n",
       "3      9.8        6  \n",
       "4      9.4        5  "
      ]
     },
     "execution_count": 4,
     "metadata": {},
     "output_type": "execute_result"
    }
   ],
   "source": [
    "WineData.head()"
   ]
  },
  {
   "cell_type": "code",
   "execution_count": 5,
   "id": "a11185d1",
   "metadata": {},
   "outputs": [
    {
     "data": {
      "image/png": "[encoded data removed]",
      "text/plain": [
       "<Figure size 1008x432 with 1 Axes>"
      ]
     },
     "metadata": {
      "needs_background": "light"
     },
     "output_type": "display_data"
    }
   ],
   "source": [
    "#Plot distribution volatile acidity - of Cheking Histogram\n",
    "import matplotlib\n",
    "from matplotlib import pyplot \n",
    "%matplotlib inline\n",
    "pyplot.figure(figsize=(14,6))\n",
    "pyplot.hist(WineData['volatile acidity'])\n",
    "pyplot.show()"
   ]
  },
  {
   "cell_type": "markdown",
   "id": "4aa88551",
   "metadata": {},
   "source": [
    "## Test Normality of data"
   ]
  },
  {
   "cell_type": "code",
   "execution_count": 6,
   "id": "8a00b452",
   "metadata": {},
   "outputs": [],
   "source": [
    "DataToTest = WineData['volatile acidity']"
   ]
  },
  {
   "cell_type": "code",
   "execution_count": 7,
   "id": "4a8b9326",
   "metadata": {},
   "outputs": [],
   "source": [
    "def normal_shapiro (dataset):\n",
    "    stat, p = shapiro(DataToTest)\n",
    "    print('stat=%.2f, p=%.30f' % (stat, p))\n",
    "    if p > 0.05:\n",
    "        print('Normal distribution')\n",
    "    else:\n",
    "        print('Not a normal distribution')"
   ]
  },
  {
   "cell_type": "code",
   "execution_count": 8,
   "id": "1f269b74",
   "metadata": {},
   "outputs": [
    {
     "name": "stdout",
     "output_type": "stream",
     "text": [
      "stat=0.97, p=0.000000000000000268680677283857\n",
      "Not a normal distribution\n"
     ]
    }
   ],
   "source": [
    "normal_shapiro(DataToTest)"
   ]
  },
  {
   "cell_type": "markdown",
   "id": "f56c41c8",
   "metadata": {},
   "source": [
    "## Try a new test"
   ]
  },
  {
   "cell_type": "code",
   "execution_count": 9,
   "id": "56d0ffa2",
   "metadata": {},
   "outputs": [],
   "source": [
    "#gerente 200 random values normal distributed\n",
    "DataToTest = randn(200)"
   ]
  },
  {
   "cell_type": "code",
   "execution_count": 10,
   "id": "dfdb1644",
   "metadata": {},
   "outputs": [
    {
     "data": {
      "text/plain": [
       "<AxesSubplot:ylabel='Density'>"
      ]
     },
     "execution_count": 10,
     "metadata": {},
     "output_type": "execute_result"
    },
    {
     "data": {
      "image/png": "[encoded data removed]",
      "text/plain": [
       "<Figure size 432x288 with 1 Axes>"
      ]
     },
     "metadata": {
      "needs_background": "light"
     },
     "output_type": "display_data"
    }
   ],
   "source": [
    "sns.kdeplot(DataToTest)"
   ]
  },
  {
   "cell_type": "code",
   "execution_count": 11,
   "id": "91b5ec88",
   "metadata": {},
   "outputs": [
    {
     "name": "stdout",
     "output_type": "stream",
     "text": [
      "stat=1.00, p=0.804083228111267089843750000000\n",
      "Normal distribution\n"
     ]
    }
   ],
   "source": [
    "normal_shapiro(DataToTest)"
   ]
  },
  {
   "cell_type": "markdown",
   "id": "7b5254f9",
   "metadata": {},
   "source": [
    "# Chi-squared Normality Test"
   ]
  },
  {
   "cell_type": "markdown",
   "id": "31a09f19",
   "metadata": {},
   "source": [
    "Assumption: all observations are identically distrubuted, so all elements in the test have equally probability to occur, which means that every element ahould appear the same amount of times as others\n"
   ]
  },
  {
   "cell_type": "code",
   "execution_count": 12,
   "id": "8e673540",
   "metadata": {},
   "outputs": [],
   "source": [
    "DataToTest = WineData['volatile acidity']"
   ]
  },
  {
   "cell_type": "code",
   "execution_count": 13,
   "id": "82a0c612",
   "metadata": {},
   "outputs": [],
   "source": [
    "def normal_chi_squared (dataset):\n",
    "    stat, p = normaltest(DataToTest)\n",
    "    print('stat=%.2f, p=%.30f' % (stat, p))\n",
    "    if p > 0.05:\n",
    "        print('Normal distribution')\n",
    "    else:\n",
    "        print('Not a normal distribution')"
   ]
  },
  {
   "cell_type": "code",
   "execution_count": 14,
   "id": "2e707d57",
   "metadata": {},
   "outputs": [
    {
     "name": "stdout",
     "output_type": "stream",
     "text": [
      "stat=143.42, p=0.000000000000000000000000000000\n",
      "Not a normal distribution\n"
     ]
    }
   ],
   "source": [
    "normal_chi_squared(DataToTest)"
   ]
  },
  {
   "cell_type": "markdown",
   "id": "a08812ca",
   "metadata": {},
   "source": [
    "# Correlation Test"
   ]
  },
  {
   "cell_type": "markdown",
   "id": "d6eb9b1a",
   "metadata": {},
   "source": [
    "## Pearson and Spearman's Rank Correlation"
   ]
  },
  {
   "cell_type": "markdown",
   "id": "2f9b0eea",
   "metadata": {},
   "source": [
    "### Ex 1: total sulfur dioxide vs pH"
   ]
  },
  {
   "cell_type": "code",
   "execution_count": 15,
   "id": "864aad27",
   "metadata": {},
   "outputs": [],
   "source": [
    "FirstSample = WineData[1:30]['total sulfur dioxide']\n",
    "SecondSample = WineData[1:30]['pH']"
   ]
  },
  {
   "cell_type": "code",
   "execution_count": 16,
   "id": "07c7294f",
   "metadata": {},
   "outputs": [
    {
     "data": {
      "image/png": "[encoded data removed]",
      "text/plain": [
       "<Figure size 432x288 with 1 Axes>"
      ]
     },
     "metadata": {
      "needs_background": "light"
     },
     "output_type": "display_data"
    }
   ],
   "source": [
    "plt.scatter(FirstSample,SecondSample)\n",
    "plt.xlabel('total sulfur dioxide')\n",
    "plt.ylabel('pH')\n",
    "plt.show()"
   ]
  },
  {
   "cell_type": "markdown",
   "id": "1fa289b6",
   "metadata": {},
   "source": [
    "### Spearman"
   ]
  },
  {
   "cell_type": "code",
   "execution_count": 17,
   "id": "0d0e5a76",
   "metadata": {},
   "outputs": [],
   "source": [
    "from scipy.stats import spearmanr\n",
    "\n",
    "def spearman_correlation(var1,var2):\n",
    "    stat, p = spearmanr(var1,var2)\n",
    "\n",
    "    print('stat=%.3f, p=%5f' % (stat, p))\n",
    "    if p > 0.05:\n",
    "        print('independent samples')\n",
    "    else:\n",
    "        print('dependent samples')"
   ]
  },
  {
   "cell_type": "code",
   "execution_count": 18,
   "id": "693cb527",
   "metadata": {},
   "outputs": [
    {
     "name": "stdout",
     "output_type": "stream",
     "text": [
      "stat=-0.258, p=0.176021\n",
      "independent samples\n"
     ]
    }
   ],
   "source": [
    "spearman_correlation(FirstSample, SecondSample)"
   ]
  },
  {
   "cell_type": "markdown",
   "id": "8666c2ad",
   "metadata": {},
   "source": [
    "### Pearson"
   ]
  },
  {
   "cell_type": "code",
   "execution_count": 19,
   "id": "da64dae7",
   "metadata": {},
   "outputs": [],
   "source": [
    "from scipy.stats import pearsonr\n",
    "\n",
    "def pearson_correlation (var1,var2):\n",
    "    stat, p = pearsonr(var1,var2)\n",
    "\n",
    "    print('stat=%.3f, p=%5f' % (stat, p))\n",
    "    if p > 0.05:\n",
    "        print('independent samples')\n",
    "    else:\n",
    "        print('dependent samples')"
   ]
  },
  {
   "cell_type": "code",
   "execution_count": 20,
   "id": "68e14f1a",
   "metadata": {},
   "outputs": [
    {
     "name": "stdout",
     "output_type": "stream",
     "text": [
      "stat=-0.280, p=0.141081\n",
      "independent samples\n"
     ]
    }
   ],
   "source": [
    "pearson_correlation(FirstSample, SecondSample)"
   ]
  },
  {
   "cell_type": "markdown",
   "id": "47cfec7b",
   "metadata": {},
   "source": [
    "### Look at correlation between variables to take 2 correlated"
   ]
  },
  {
   "cell_type": "code",
   "execution_count": 21,
   "id": "e17dc6ed",
   "metadata": {},
   "outputs": [
    {
     "data": {
      "text/html": [
       "<div>\n",
       "<style scoped>\n",
       "    .dataframe tbody tr th:only-of-type {\n",
       "        vertical-align: middle;\n",
       "    }\n",
       "\n",
       "    .dataframe tbody tr th {\n",
       "        vertical-align: top;\n",
       "    }\n",
       "\n",
       "    .dataframe thead th {\n",
       "        text-align: right;\n",
       "    }\n",
       "</style>\n",
       "<table border=\"1\" class=\"dataframe\">\n",
       "  <thead>\n",
       "    <tr style=\"text-align: right;\">\n",
       "      <th></th>\n",
       "      <th>fixed acidity</th>\n",
       "      <th>volatile acidity</th>\n",
       "      <th>citric acid</th>\n",
       "      <th>residual sugar</th>\n",
       "      <th>chlorides</th>\n",
       "      <th>free sulfur dioxide</th>\n",
       "      <th>total sulfur dioxide</th>\n",
       "      <th>density</th>\n",
       "      <th>pH</th>\n",
       "      <th>sulphates</th>\n",
       "      <th>alcohol</th>\n",
       "      <th>quality</th>\n",
       "    </tr>\n",
       "  </thead>\n",
       "  <tbody>\n",
       "    <tr>\n",
       "      <th>fixed acidity</th>\n",
       "      <td>1.000000</td>\n",
       "      <td>-0.325296</td>\n",
       "      <td>0.553331</td>\n",
       "      <td>0.064789</td>\n",
       "      <td>0.145997</td>\n",
       "      <td>0.369643</td>\n",
       "      <td>0.351803</td>\n",
       "      <td>0.558823</td>\n",
       "      <td>-0.554355</td>\n",
       "      <td>0.176146</td>\n",
       "      <td>-0.014915</td>\n",
       "      <td>0.232732</td>\n",
       "    </tr>\n",
       "    <tr>\n",
       "      <th>volatile acidity</th>\n",
       "      <td>-0.325296</td>\n",
       "      <td>1.000000</td>\n",
       "      <td>-0.808892</td>\n",
       "      <td>0.086848</td>\n",
       "      <td>-0.086997</td>\n",
       "      <td>-0.046489</td>\n",
       "      <td>-0.045020</td>\n",
       "      <td>-0.018832</td>\n",
       "      <td>0.176232</td>\n",
       "      <td>-0.058765</td>\n",
       "      <td>-0.116946</td>\n",
       "      <td>-0.323907</td>\n",
       "    </tr>\n",
       "    <tr>\n",
       "      <th>citric acid</th>\n",
       "      <td>0.553331</td>\n",
       "      <td>-0.808892</td>\n",
       "      <td>1.000000</td>\n",
       "      <td>0.163451</td>\n",
       "      <td>0.302150</td>\n",
       "      <td>0.273691</td>\n",
       "      <td>0.356156</td>\n",
       "      <td>0.321183</td>\n",
       "      <td>-0.402765</td>\n",
       "      <td>0.404090</td>\n",
       "      <td>0.247358</td>\n",
       "      <td>0.246825</td>\n",
       "    </tr>\n",
       "    <tr>\n",
       "      <th>residual sugar</th>\n",
       "      <td>0.064789</td>\n",
       "      <td>0.086848</td>\n",
       "      <td>0.163451</td>\n",
       "      <td>1.000000</td>\n",
       "      <td>-0.069497</td>\n",
       "      <td>0.278564</td>\n",
       "      <td>0.580704</td>\n",
       "      <td>0.524667</td>\n",
       "      <td>-0.011351</td>\n",
       "      <td>0.074962</td>\n",
       "      <td>0.358012</td>\n",
       "      <td>-0.324054</td>\n",
       "    </tr>\n",
       "    <tr>\n",
       "      <th>chlorides</th>\n",
       "      <td>0.145997</td>\n",
       "      <td>-0.086997</td>\n",
       "      <td>0.302150</td>\n",
       "      <td>-0.069497</td>\n",
       "      <td>1.000000</td>\n",
       "      <td>0.226563</td>\n",
       "      <td>0.211043</td>\n",
       "      <td>0.118830</td>\n",
       "      <td>-0.601472</td>\n",
       "      <td>0.644596</td>\n",
       "      <td>-0.342212</td>\n",
       "      <td>-0.037891</td>\n",
       "    </tr>\n",
       "    <tr>\n",
       "      <th>free sulfur dioxide</th>\n",
       "      <td>0.369643</td>\n",
       "      <td>-0.046489</td>\n",
       "      <td>0.273691</td>\n",
       "      <td>0.278564</td>\n",
       "      <td>0.226563</td>\n",
       "      <td>1.000000</td>\n",
       "      <td>0.854553</td>\n",
       "      <td>0.430067</td>\n",
       "      <td>-0.204240</td>\n",
       "      <td>0.156305</td>\n",
       "      <td>0.056671</td>\n",
       "      <td>0.120759</td>\n",
       "    </tr>\n",
       "    <tr>\n",
       "      <th>total sulfur dioxide</th>\n",
       "      <td>0.351803</td>\n",
       "      <td>-0.045020</td>\n",
       "      <td>0.356156</td>\n",
       "      <td>0.580704</td>\n",
       "      <td>0.211043</td>\n",
       "      <td>0.854553</td>\n",
       "      <td>1.000000</td>\n",
       "      <td>0.523186</td>\n",
       "      <td>-0.280118</td>\n",
       "      <td>0.210051</td>\n",
       "      <td>0.229037</td>\n",
       "      <td>-0.112902</td>\n",
       "    </tr>\n",
       "    <tr>\n",
       "      <th>density</th>\n",
       "      <td>0.558823</td>\n",
       "      <td>-0.018832</td>\n",
       "      <td>0.321183</td>\n",
       "      <td>0.524667</td>\n",
       "      <td>0.118830</td>\n",
       "      <td>0.430067</td>\n",
       "      <td>0.523186</td>\n",
       "      <td>1.000000</td>\n",
       "      <td>-0.181546</td>\n",
       "      <td>0.300643</td>\n",
       "      <td>-0.089917</td>\n",
       "      <td>-0.249689</td>\n",
       "    </tr>\n",
       "    <tr>\n",
       "      <th>pH</th>\n",
       "      <td>-0.554355</td>\n",
       "      <td>0.176232</td>\n",
       "      <td>-0.402765</td>\n",
       "      <td>-0.011351</td>\n",
       "      <td>-0.601472</td>\n",
       "      <td>-0.204240</td>\n",
       "      <td>-0.280118</td>\n",
       "      <td>-0.181546</td>\n",
       "      <td>1.000000</td>\n",
       "      <td>-0.539957</td>\n",
       "      <td>0.232744</td>\n",
       "      <td>0.007259</td>\n",
       "    </tr>\n",
       "    <tr>\n",
       "      <th>sulphates</th>\n",
       "      <td>0.176146</td>\n",
       "      <td>-0.058765</td>\n",
       "      <td>0.404090</td>\n",
       "      <td>0.074962</td>\n",
       "      <td>0.644596</td>\n",
       "      <td>0.156305</td>\n",
       "      <td>0.210051</td>\n",
       "      <td>0.300643</td>\n",
       "      <td>-0.539957</td>\n",
       "      <td>1.000000</td>\n",
       "      <td>-0.172364</td>\n",
       "      <td>-0.120335</td>\n",
       "    </tr>\n",
       "    <tr>\n",
       "      <th>alcohol</th>\n",
       "      <td>-0.014915</td>\n",
       "      <td>-0.116946</td>\n",
       "      <td>0.247358</td>\n",
       "      <td>0.358012</td>\n",
       "      <td>-0.342212</td>\n",
       "      <td>0.056671</td>\n",
       "      <td>0.229037</td>\n",
       "      <td>-0.089917</td>\n",
       "      <td>0.232744</td>\n",
       "      <td>-0.172364</td>\n",
       "      <td>1.000000</td>\n",
       "      <td>0.377116</td>\n",
       "    </tr>\n",
       "    <tr>\n",
       "      <th>quality</th>\n",
       "      <td>0.232732</td>\n",
       "      <td>-0.323907</td>\n",
       "      <td>0.246825</td>\n",
       "      <td>-0.324054</td>\n",
       "      <td>-0.037891</td>\n",
       "      <td>0.120759</td>\n",
       "      <td>-0.112902</td>\n",
       "      <td>-0.249689</td>\n",
       "      <td>0.007259</td>\n",
       "      <td>-0.120335</td>\n",
       "      <td>0.377116</td>\n",
       "      <td>1.000000</td>\n",
       "    </tr>\n",
       "  </tbody>\n",
       "</table>\n",
       "</div>"
      ],
      "text/plain": [
       "                      fixed acidity  volatile acidity  citric acid  \\\n",
       "fixed acidity              1.000000         -0.325296     0.553331   \n",
       "volatile acidity          -0.325296          1.000000    -0.808892   \n",
       "citric acid                0.553331         -0.808892     1.000000   \n",
       "residual sugar             0.064789          0.086848     0.163451   \n",
       "chlorides                  0.145997         -0.086997     0.302150   \n",
       "free sulfur dioxide        0.369643         -0.046489     0.273691   \n",
       "total sulfur dioxide       0.351803         -0.045020     0.356156   \n",
       "density                    0.558823         -0.018832     0.321183   \n",
       "pH                        -0.554355          0.176232    -0.402765   \n",
       "sulphates                  0.176146         -0.058765     0.404090   \n",
       "alcohol                   -0.014915         -0.116946     0.247358   \n",
       "quality                    0.232732         -0.323907     0.246825   \n",
       "\n",
       "                      residual sugar  chlorides  free sulfur dioxide  \\\n",
       "fixed acidity               0.064789   0.145997             0.369643   \n",
       "volatile acidity            0.086848  -0.086997            -0.046489   \n",
       "citric acid                 0.163451   0.302150             0.273691   \n",
       "residual sugar              1.000000  -0.069497             0.278564   \n",
       "chlorides                  -0.069497   1.000000             0.226563   \n",
       "free sulfur dioxide         0.278564   0.226563             1.000000   \n",
       "total sulfur dioxide        0.580704   0.211043             0.854553   \n",
       "density                     0.524667   0.118830             0.430067   \n",
       "pH                         -0.011351  -0.601472            -0.204240   \n",
       "sulphates                   0.074962   0.644596             0.156305   \n",
       "alcohol                     0.358012  -0.342212             0.056671   \n",
       "quality                    -0.324054  -0.037891             0.120759   \n",
       "\n",
       "                      total sulfur dioxide   density        pH  sulphates  \\\n",
       "fixed acidity                     0.351803  0.558823 -0.554355   0.176146   \n",
       "volatile acidity                 -0.045020 -0.018832  0.176232  -0.058765   \n",
       "citric acid                       0.356156  0.321183 -0.402765   0.404090   \n",
       "residual sugar                    0.580704  0.524667 -0.011351   0.074962   \n",
       "chlorides                         0.211043  0.118830 -0.601472   0.644596   \n",
       "free sulfur dioxide               0.854553  0.430067 -0.204240   0.156305   \n",
       "total sulfur dioxide              1.000000  0.523186 -0.280118   0.210051   \n",
       "density                           0.523186  1.000000 -0.181546   0.300643   \n",
       "pH                               -0.280118 -0.181546  1.000000  -0.539957   \n",
       "sulphates                         0.210051  0.300643 -0.539957   1.000000   \n",
       "alcohol                           0.229037 -0.089917  0.232744  -0.172364   \n",
       "quality                          -0.112902 -0.249689  0.007259  -0.120335   \n",
       "\n",
       "                       alcohol   quality  \n",
       "fixed acidity        -0.014915  0.232732  \n",
       "volatile acidity     -0.116946 -0.323907  \n",
       "citric acid           0.247358  0.246825  \n",
       "residual sugar        0.358012 -0.324054  \n",
       "chlorides            -0.342212 -0.037891  \n",
       "free sulfur dioxide   0.056671  0.120759  \n",
       "total sulfur dioxide  0.229037 -0.112902  \n",
       "density              -0.089917 -0.249689  \n",
       "pH                    0.232744  0.007259  \n",
       "sulphates            -0.172364 -0.120335  \n",
       "alcohol               1.000000  0.377116  \n",
       "quality               0.377116  1.000000  "
      ]
     },
     "execution_count": 21,
     "metadata": {},
     "output_type": "execute_result"
    }
   ],
   "source": [
    "WineData[1:30].corr(method=\"pearson\")"
   ]
  },
  {
   "cell_type": "markdown",
   "id": "4ea478b5",
   "metadata": {},
   "source": [
    "### Ex 1: total sulfur dioxide vs free sulfur dioxide"
   ]
  },
  {
   "cell_type": "code",
   "execution_count": 22,
   "id": "3b24eb6e",
   "metadata": {},
   "outputs": [],
   "source": [
    "FirstSample = WineData[1:30]['total sulfur dioxide']\n",
    "SecondSample = WineData[1:30]['free sulfur dioxide']"
   ]
  },
  {
   "cell_type": "code",
   "execution_count": 23,
   "id": "bd007791",
   "metadata": {},
   "outputs": [
    {
     "data": {
      "image/png": "[encoded data removed]",
      "text/plain": [
       "<Figure size 432x288 with 1 Axes>"
      ]
     },
     "metadata": {
      "needs_background": "light"
     },
     "output_type": "display_data"
    }
   ],
   "source": [
    "plt.scatter(FirstSample,SecondSample)\n",
    "plt.xlabel('total sulfur dioxide')\n",
    "plt.ylabel('free sulfur dioxide')\n",
    "plt.show()"
   ]
  },
  {
   "cell_type": "markdown",
   "id": "fcc14e6f",
   "metadata": {},
   "source": [
    "### Spearman"
   ]
  },
  {
   "cell_type": "code",
   "execution_count": 24,
   "id": "d21747a0",
   "metadata": {},
   "outputs": [
    {
     "name": "stdout",
     "output_type": "stream",
     "text": [
      "stat=0.805, p=0.000000\n",
      "dependent samples\n"
     ]
    }
   ],
   "source": [
    "spearman_correlation(FirstSample, SecondSample)"
   ]
  },
  {
   "cell_type": "markdown",
   "id": "be4f198d",
   "metadata": {},
   "source": [
    "### Pearson"
   ]
  },
  {
   "cell_type": "code",
   "execution_count": 25,
   "id": "9dc42b3a",
   "metadata": {},
   "outputs": [
    {
     "name": "stdout",
     "output_type": "stream",
     "text": [
      "stat=0.855, p=0.000000\n",
      "dependent samples\n"
     ]
    }
   ],
   "source": [
    "pearson_correlation(FirstSample, SecondSample)"
   ]
  },
  {
   "cell_type": "markdown",
   "id": "c2aa820c",
   "metadata": {},
   "source": [
    "# Correlation of Categorical variables"
   ]
  },
  {
   "cell_type": "code",
   "execution_count": 26,
   "id": "ddd73159",
   "metadata": {},
   "outputs": [],
   "source": [
    "#Tests whether two categorical variables are related or independent.\n",
    "#Assumptions - independent observation, size in each box of contingency table > 25\n",
    "#Example of the Chi-Squared Test"
   ]
  },
  {
   "cell_type": "code",
   "execution_count": 28,
   "id": "57265524",
   "metadata": {},
   "outputs": [],
   "source": [
    "LoanData = pd.read_csv(\"https://s3.eu-west-2.amazonaws.com/assets.winderresearch.com/data/loan_small.csv\")"
   ]
  },
  {
   "cell_type": "code",
   "execution_count": 29,
   "id": "71320db9",
   "metadata": {},
   "outputs": [
    {
     "data": {
      "text/html": [
       "<div>\n",
       "<style scoped>\n",
       "    .dataframe tbody tr th:only-of-type {\n",
       "        vertical-align: middle;\n",
       "    }\n",
       "\n",
       "    .dataframe tbody tr th {\n",
       "        vertical-align: top;\n",
       "    }\n",
       "\n",
       "    .dataframe thead th {\n",
       "        text-align: right;\n",
       "    }\n",
       "</style>\n",
       "<table border=\"1\" class=\"dataframe\">\n",
       "  <thead>\n",
       "    <tr style=\"text-align: right;\">\n",
       "      <th></th>\n",
       "      <th>id</th>\n",
       "      <th>member_id</th>\n",
       "      <th>loan_amnt</th>\n",
       "      <th>funded_amnt</th>\n",
       "      <th>funded_amnt_inv</th>\n",
       "      <th>term</th>\n",
       "      <th>int_rate</th>\n",
       "      <th>installment</th>\n",
       "      <th>grade</th>\n",
       "      <th>sub_grade</th>\n",
       "      <th>...</th>\n",
       "      <th>total_bal_il</th>\n",
       "      <th>il_util</th>\n",
       "      <th>open_rv_12m</th>\n",
       "      <th>open_rv_24m</th>\n",
       "      <th>max_bal_bc</th>\n",
       "      <th>all_util</th>\n",
       "      <th>total_rev_hi_lim</th>\n",
       "      <th>inq_fi</th>\n",
       "      <th>total_cu_tl</th>\n",
       "      <th>inq_last_12m</th>\n",
       "    </tr>\n",
       "  </thead>\n",
       "  <tbody>\n",
       "    <tr>\n",
       "      <th>0</th>\n",
       "      <td>1077501</td>\n",
       "      <td>1296599</td>\n",
       "      <td>5000.0</td>\n",
       "      <td>5000.0</td>\n",
       "      <td>4975.0</td>\n",
       "      <td>36 months</td>\n",
       "      <td>10.65</td>\n",
       "      <td>162.87</td>\n",
       "      <td>B</td>\n",
       "      <td>B2</td>\n",
       "      <td>...</td>\n",
       "      <td>NaN</td>\n",
       "      <td>NaN</td>\n",
       "      <td>NaN</td>\n",
       "      <td>NaN</td>\n",
       "      <td>NaN</td>\n",
       "      <td>NaN</td>\n",
       "      <td>NaN</td>\n",
       "      <td>NaN</td>\n",
       "      <td>NaN</td>\n",
       "      <td>NaN</td>\n",
       "    </tr>\n",
       "    <tr>\n",
       "      <th>1</th>\n",
       "      <td>1077430</td>\n",
       "      <td>1314167</td>\n",
       "      <td>2500.0</td>\n",
       "      <td>2500.0</td>\n",
       "      <td>2500.0</td>\n",
       "      <td>60 months</td>\n",
       "      <td>15.27</td>\n",
       "      <td>59.83</td>\n",
       "      <td>C</td>\n",
       "      <td>C4</td>\n",
       "      <td>...</td>\n",
       "      <td>NaN</td>\n",
       "      <td>NaN</td>\n",
       "      <td>NaN</td>\n",
       "      <td>NaN</td>\n",
       "      <td>NaN</td>\n",
       "      <td>NaN</td>\n",
       "      <td>NaN</td>\n",
       "      <td>NaN</td>\n",
       "      <td>NaN</td>\n",
       "      <td>NaN</td>\n",
       "    </tr>\n",
       "    <tr>\n",
       "      <th>2</th>\n",
       "      <td>1077175</td>\n",
       "      <td>1313524</td>\n",
       "      <td>2400.0</td>\n",
       "      <td>2400.0</td>\n",
       "      <td>2400.0</td>\n",
       "      <td>36 months</td>\n",
       "      <td>15.96</td>\n",
       "      <td>84.33</td>\n",
       "      <td>C</td>\n",
       "      <td>C5</td>\n",
       "      <td>...</td>\n",
       "      <td>NaN</td>\n",
       "      <td>NaN</td>\n",
       "      <td>NaN</td>\n",
       "      <td>NaN</td>\n",
       "      <td>NaN</td>\n",
       "      <td>NaN</td>\n",
       "      <td>NaN</td>\n",
       "      <td>NaN</td>\n",
       "      <td>NaN</td>\n",
       "      <td>NaN</td>\n",
       "    </tr>\n",
       "    <tr>\n",
       "      <th>3</th>\n",
       "      <td>1076863</td>\n",
       "      <td>1277178</td>\n",
       "      <td>10000.0</td>\n",
       "      <td>10000.0</td>\n",
       "      <td>10000.0</td>\n",
       "      <td>36 months</td>\n",
       "      <td>13.49</td>\n",
       "      <td>339.31</td>\n",
       "      <td>C</td>\n",
       "      <td>C1</td>\n",
       "      <td>...</td>\n",
       "      <td>NaN</td>\n",
       "      <td>NaN</td>\n",
       "      <td>NaN</td>\n",
       "      <td>NaN</td>\n",
       "      <td>NaN</td>\n",
       "      <td>NaN</td>\n",
       "      <td>NaN</td>\n",
       "      <td>NaN</td>\n",
       "      <td>NaN</td>\n",
       "      <td>NaN</td>\n",
       "    </tr>\n",
       "    <tr>\n",
       "      <th>4</th>\n",
       "      <td>1075358</td>\n",
       "      <td>1311748</td>\n",
       "      <td>3000.0</td>\n",
       "      <td>3000.0</td>\n",
       "      <td>3000.0</td>\n",
       "      <td>60 months</td>\n",
       "      <td>12.69</td>\n",
       "      <td>67.79</td>\n",
       "      <td>B</td>\n",
       "      <td>B5</td>\n",
       "      <td>...</td>\n",
       "      <td>NaN</td>\n",
       "      <td>NaN</td>\n",
       "      <td>NaN</td>\n",
       "      <td>NaN</td>\n",
       "      <td>NaN</td>\n",
       "      <td>NaN</td>\n",
       "      <td>NaN</td>\n",
       "      <td>NaN</td>\n",
       "      <td>NaN</td>\n",
       "      <td>NaN</td>\n",
       "    </tr>\n",
       "  </tbody>\n",
       "</table>\n",
       "<p>5 rows × 74 columns</p>\n",
       "</div>"
      ],
      "text/plain": [
       "        id  member_id  loan_amnt  funded_amnt  funded_amnt_inv        term  \\\n",
       "0  1077501    1296599     5000.0       5000.0           4975.0   36 months   \n",
       "1  1077430    1314167     2500.0       2500.0           2500.0   60 months   \n",
       "2  1077175    1313524     2400.0       2400.0           2400.0   36 months   \n",
       "3  1076863    1277178    10000.0      10000.0          10000.0   36 months   \n",
       "4  1075358    1311748     3000.0       3000.0           3000.0   60 months   \n",
       "\n",
       "   int_rate  installment grade sub_grade  ... total_bal_il il_util  \\\n",
       "0     10.65       162.87     B        B2  ...          NaN     NaN   \n",
       "1     15.27        59.83     C        C4  ...          NaN     NaN   \n",
       "2     15.96        84.33     C        C5  ...          NaN     NaN   \n",
       "3     13.49       339.31     C        C1  ...          NaN     NaN   \n",
       "4     12.69        67.79     B        B5  ...          NaN     NaN   \n",
       "\n",
       "  open_rv_12m  open_rv_24m max_bal_bc all_util total_rev_hi_lim inq_fi  \\\n",
       "0         NaN          NaN        NaN      NaN              NaN    NaN   \n",
       "1         NaN          NaN        NaN      NaN              NaN    NaN   \n",
       "2         NaN          NaN        NaN      NaN              NaN    NaN   \n",
       "3         NaN          NaN        NaN      NaN              NaN    NaN   \n",
       "4         NaN          NaN        NaN      NaN              NaN    NaN   \n",
       "\n",
       "  total_cu_tl inq_last_12m  \n",
       "0         NaN          NaN  \n",
       "1         NaN          NaN  \n",
       "2         NaN          NaN  \n",
       "3         NaN          NaN  \n",
       "4         NaN          NaN  \n",
       "\n",
       "[5 rows x 74 columns]"
      ]
     },
     "execution_count": 29,
     "metadata": {},
     "output_type": "execute_result"
    }
   ],
   "source": [
    "LoanData.head()"
   ]
  },
  {
   "cell_type": "code",
   "execution_count": 31,
   "id": "6bf086a2",
   "metadata": {},
   "outputs": [
    {
     "data": {
      "text/html": [
       "<div>\n",
       "<style scoped>\n",
       "    .dataframe tbody tr th:only-of-type {\n",
       "        vertical-align: middle;\n",
       "    }\n",
       "\n",
       "    .dataframe tbody tr th {\n",
       "        vertical-align: top;\n",
       "    }\n",
       "\n",
       "    .dataframe thead th {\n",
       "        text-align: right;\n",
       "    }\n",
       "</style>\n",
       "<table border=\"1\" class=\"dataframe\">\n",
       "  <thead>\n",
       "    <tr style=\"text-align: right;\">\n",
       "      <th>loan_status</th>\n",
       "      <th>Charged Off</th>\n",
       "      <th>Current</th>\n",
       "      <th>Default</th>\n",
       "      <th>Fully Paid</th>\n",
       "      <th>Late (31-120 days)</th>\n",
       "    </tr>\n",
       "    <tr>\n",
       "      <th>purpose</th>\n",
       "      <th></th>\n",
       "      <th></th>\n",
       "      <th></th>\n",
       "      <th></th>\n",
       "      <th></th>\n",
       "    </tr>\n",
       "  </thead>\n",
       "  <tbody>\n",
       "    <tr>\n",
       "      <th>car</th>\n",
       "      <td>5</td>\n",
       "      <td>1</td>\n",
       "      <td>0</td>\n",
       "      <td>16</td>\n",
       "      <td>0</td>\n",
       "    </tr>\n",
       "    <tr>\n",
       "      <th>credit_card</th>\n",
       "      <td>32</td>\n",
       "      <td>12</td>\n",
       "      <td>0</td>\n",
       "      <td>208</td>\n",
       "      <td>0</td>\n",
       "    </tr>\n",
       "    <tr>\n",
       "      <th>debt_consolidation</th>\n",
       "      <td>98</td>\n",
       "      <td>53</td>\n",
       "      <td>1</td>\n",
       "      <td>374</td>\n",
       "      <td>1</td>\n",
       "    </tr>\n",
       "    <tr>\n",
       "      <th>home_improvement</th>\n",
       "      <td>9</td>\n",
       "      <td>6</td>\n",
       "      <td>0</td>\n",
       "      <td>22</td>\n",
       "      <td>0</td>\n",
       "    </tr>\n",
       "    <tr>\n",
       "      <th>house</th>\n",
       "      <td>2</td>\n",
       "      <td>0</td>\n",
       "      <td>0</td>\n",
       "      <td>5</td>\n",
       "      <td>0</td>\n",
       "    </tr>\n",
       "    <tr>\n",
       "      <th>major_purchase</th>\n",
       "      <td>2</td>\n",
       "      <td>2</td>\n",
       "      <td>0</td>\n",
       "      <td>15</td>\n",
       "      <td>0</td>\n",
       "    </tr>\n",
       "    <tr>\n",
       "      <th>medical</th>\n",
       "      <td>2</td>\n",
       "      <td>1</td>\n",
       "      <td>0</td>\n",
       "      <td>8</td>\n",
       "      <td>0</td>\n",
       "    </tr>\n",
       "    <tr>\n",
       "      <th>moving</th>\n",
       "      <td>1</td>\n",
       "      <td>0</td>\n",
       "      <td>0</td>\n",
       "      <td>4</td>\n",
       "      <td>0</td>\n",
       "    </tr>\n",
       "    <tr>\n",
       "      <th>other</th>\n",
       "      <td>13</td>\n",
       "      <td>7</td>\n",
       "      <td>0</td>\n",
       "      <td>43</td>\n",
       "      <td>0</td>\n",
       "    </tr>\n",
       "    <tr>\n",
       "      <th>renewable_energy</th>\n",
       "      <td>0</td>\n",
       "      <td>0</td>\n",
       "      <td>0</td>\n",
       "      <td>1</td>\n",
       "      <td>0</td>\n",
       "    </tr>\n",
       "    <tr>\n",
       "      <th>small_business</th>\n",
       "      <td>9</td>\n",
       "      <td>5</td>\n",
       "      <td>0</td>\n",
       "      <td>20</td>\n",
       "      <td>1</td>\n",
       "    </tr>\n",
       "    <tr>\n",
       "      <th>vacation</th>\n",
       "      <td>1</td>\n",
       "      <td>1</td>\n",
       "      <td>0</td>\n",
       "      <td>8</td>\n",
       "      <td>0</td>\n",
       "    </tr>\n",
       "    <tr>\n",
       "      <th>wedding</th>\n",
       "      <td>2</td>\n",
       "      <td>3</td>\n",
       "      <td>0</td>\n",
       "      <td>5</td>\n",
       "      <td>0</td>\n",
       "    </tr>\n",
       "  </tbody>\n",
       "</table>\n",
       "</div>"
      ],
      "text/plain": [
       "loan_status         Charged Off  Current  Default  Fully Paid  \\\n",
       "purpose                                                         \n",
       "car                           5        1        0          16   \n",
       "credit_card                  32       12        0         208   \n",
       "debt_consolidation           98       53        1         374   \n",
       "home_improvement              9        6        0          22   \n",
       "house                         2        0        0           5   \n",
       "major_purchase                2        2        0          15   \n",
       "medical                       2        1        0           8   \n",
       "moving                        1        0        0           4   \n",
       "other                        13        7        0          43   \n",
       "renewable_energy              0        0        0           1   \n",
       "small_business                9        5        0          20   \n",
       "vacation                      1        1        0           8   \n",
       "wedding                       2        3        0           5   \n",
       "\n",
       "loan_status         Late (31-120 days)  \n",
       "purpose                                 \n",
       "car                                  0  \n",
       "credit_card                          0  \n",
       "debt_consolidation                   1  \n",
       "home_improvement                     0  \n",
       "house                                0  \n",
       "major_purchase                       0  \n",
       "medical                              0  \n",
       "moving                               0  \n",
       "other                                0  \n",
       "renewable_energy                     0  \n",
       "small_business                       1  \n",
       "vacation                             0  \n",
       "wedding                              0  "
      ]
     },
     "execution_count": 31,
     "metadata": {},
     "output_type": "execute_result"
    }
   ],
   "source": [
    "contingency_data = pd.crosstab(LoanData['purpose'], LoanData['loan_status'],margins = False)\n",
    "contingency_data"
   ]
  },
  {
   "cell_type": "markdown",
   "id": "14dc2e52",
   "metadata": {},
   "source": [
    "Assumptions - size in each box of contingency table > 25 IS NOT RESPECTED"
   ]
  },
  {
   "cell_type": "code",
   "execution_count": 32,
   "id": "2a7a24d6",
   "metadata": {},
   "outputs": [],
   "source": [
    "from scipy.stats import chi2_contingency"
   ]
  },
  {
   "cell_type": "code",
   "execution_count": 33,
   "id": "71e7af0d",
   "metadata": {},
   "outputs": [
    {
     "name": "stdout",
     "output_type": "stream",
     "text": [
      "stat=44.763, p=0.606\n",
      "independent categories\n"
     ]
    }
   ],
   "source": [
    "stat, p, dof, expected = chi2_contingency(contingency_data)\n",
    "print('stat=%.3f, p=%.3f' % (stat, p))\n",
    "if p > 0.05:\n",
    "    print('independent categories')\n",
    "else:\n",
    "    print('dependent categories')"
   ]
  },
  {
   "cell_type": "code",
   "execution_count": 34,
   "id": "80401855",
   "metadata": {},
   "outputs": [],
   "source": [
    "#Create a new contingency table to show the relational dependance of the two category"
   ]
  },
  {
   "cell_type": "code",
   "execution_count": 38,
   "id": "8d60ec9a",
   "metadata": {},
   "outputs": [
    {
     "data": {
      "text/plain": [
       "[[25, 125], [1200, 240]]"
      ]
     },
     "execution_count": 38,
     "metadata": {},
     "output_type": "execute_result"
    }
   ],
   "source": [
    "contingency_data_2 = [[25,125],[1200,240]]\n",
    "contingency_data_2"
   ]
  },
  {
   "cell_type": "code",
   "execution_count": 39,
   "id": "9ffc1fb7",
   "metadata": {},
   "outputs": [
    {
     "name": "stdout",
     "output_type": "stream",
     "text": [
      "stat=337.622, p=0.000\n",
      "dependent categories\n"
     ]
    }
   ],
   "source": [
    "stat, p, dof, expected = chi2_contingency(contingency_data_2)\n",
    "print('stat=%.3f, p=%.3f' % (stat, p))\n",
    "if p > 0.05:\n",
    "    print('independent categories')\n",
    "else:\n",
    "    print('dependent categories')"
   ]
  },
  {
   "cell_type": "markdown",
   "id": "2d669636",
   "metadata": {},
   "source": [
    "# Parametric Tests\n",
    "Main assumption: data is normally distributed"
   ]
  },
  {
   "cell_type": "markdown",
   "id": "9a5c095e",
   "metadata": {},
   "source": [
    "## T-Test\n",
    "* One sample\n",
    "* Independent samples\n",
    "* Paired samples"
   ]
  },
  {
   "cell_type": "code",
   "execution_count": 40,
   "id": "8a621196",
   "metadata": {},
   "outputs": [],
   "source": [
    "#Scores of me and Virat\n",
    "my_score = [23,21,31,20,19,35,26,22,21,19]\n",
    "virat_score = [46,42,62,40,38,70,52,44,42,38]"
   ]
  },
  {
   "cell_type": "code",
   "execution_count": 57,
   "id": "2b60b9ac",
   "metadata": {},
   "outputs": [
    {
     "name": "stdout",
     "output_type": "stream",
     "text": [
      "Fede mean score: 23.7\n",
      "Lore mean score: 47.4\n"
     ]
    }
   ],
   "source": [
    "#Compute means\n",
    "print('Fede mean score:', np.mean(my_score))\n",
    "print('Lore mean score:', np.mean(virat_score))"
   ]
  },
  {
   "cell_type": "markdown",
   "id": "8e7af945",
   "metadata": {},
   "source": [
    "### One Sample"
   ]
  },
  {
   "cell_type": "code",
   "execution_count": 46,
   "id": "4d3464d1",
   "metadata": {},
   "outputs": [
    {
     "data": {
      "text/plain": [
       "Ttest_1sampResult(statistic=13.88788431654638, pvalue=2.1983272300073563e-07)"
      ]
     },
     "execution_count": 46,
     "metadata": {},
     "output_type": "execute_result"
    }
   ],
   "source": [
    "#One Sample T-test\n",
    "import scipy\n",
    "#testing if my score is 0\n",
    "scipy.stats.ttest_1samp(my_score,0)\n",
    "#p-value low --> we can reject the hypotheis that the mean of my scores is 0"
   ]
  },
  {
   "cell_type": "code",
   "execution_count": 50,
   "id": "e2a7d3db",
   "metadata": {},
   "outputs": [
    {
     "data": {
      "text/plain": [
       "Ttest_1sampResult(statistic=2.1681507160852993, pvalue=0.058288767709368715)"
      ]
     },
     "execution_count": 50,
     "metadata": {},
     "output_type": "execute_result"
    }
   ],
   "source": [
    "#testing if my score is 20\n",
    "scipy.stats.ttest_1samp(my_score,20)\n",
    "#p-value is above 0.05 --> we can't reject the null Hp that the mean is 20"
   ]
  },
  {
   "cell_type": "markdown",
   "id": "07e933c6",
   "metadata": {},
   "source": [
    "### Independent Samples"
   ]
  },
  {
   "cell_type": "markdown",
   "id": "2f532f62",
   "metadata": {},
   "source": [
    "We want to test if the mean of the two samples is equal"
   ]
  },
  {
   "cell_type": "code",
   "execution_count": 53,
   "id": "8f607e12",
   "metadata": {},
   "outputs": [
    {
     "data": {
      "text/plain": [
       "Ttest_indResult(statistic=-6.210850679090182, pvalue=7.3390410384768156e-06)"
      ]
     },
     "execution_count": 53,
     "metadata": {},
     "output_type": "execute_result"
    }
   ],
   "source": [
    "#Independent Sample T-test\n",
    "scipy.stats.ttest_ind(my_score,virat_score)\n",
    "#p-value very low --> reject the hypothesis that the two means are equal"
   ]
  },
  {
   "cell_type": "markdown",
   "id": "e238542c",
   "metadata": {},
   "source": [
    "### Paired Samples"
   ]
  },
  {
   "cell_type": "markdown",
   "id": "55897d75",
   "metadata": {},
   "source": [
    "Data are captured at different time intervals from the same source"
   ]
  },
  {
   "cell_type": "code",
   "execution_count": 54,
   "id": "8d47469e",
   "metadata": {},
   "outputs": [],
   "source": [
    "my_score_second_Tour = [46,42,62,40,38,70,52,44,42,38]"
   ]
  },
  {
   "cell_type": "code",
   "execution_count": 56,
   "id": "3e29d998",
   "metadata": {},
   "outputs": [
    {
     "data": {
      "text/plain": [
       "47.4"
      ]
     },
     "execution_count": 56,
     "metadata": {},
     "output_type": "execute_result"
    }
   ],
   "source": [
    "np.mean(my_score_second_Tour)"
   ]
  },
  {
   "cell_type": "code",
   "execution_count": 55,
   "id": "db12e778",
   "metadata": {},
   "outputs": [
    {
     "data": {
      "text/plain": [
       "Ttest_relResult(statistic=-13.88788431654638, pvalue=2.1983272300073563e-07)"
      ]
     },
     "execution_count": 55,
     "metadata": {},
     "output_type": "execute_result"
    }
   ],
   "source": [
    "#Paired sample t-test\n",
    "scipy.stats.ttest_rel(my_score,my_score_second_Tour)"
   ]
  },
  {
   "cell_type": "markdown",
   "id": "380b5dc0",
   "metadata": {},
   "source": [
    "## Anova\n",
    "### Tests whether the means of *two or more* independent samples are significantly different."
   ]
  },
  {
   "cell_type": "markdown",
   "id": "b0c96991",
   "metadata": {},
   "source": [
    "Assumption -  Normal distributon, same variance, identical distribution"
   ]
  },
  {
   "cell_type": "code",
   "execution_count": 58,
   "id": "d4bf0d07",
   "metadata": {},
   "outputs": [],
   "source": [
    "average_score = [40,44,60,50,48,68,55,46,44,54]"
   ]
  },
  {
   "cell_type": "code",
   "execution_count": 59,
   "id": "f7a98e23",
   "metadata": {},
   "outputs": [
    {
     "data": {
      "text/plain": [
       "[23, 21, 31, 20, 19, 35, 26, 22, 21, 19]"
      ]
     },
     "execution_count": 59,
     "metadata": {},
     "output_type": "execute_result"
    }
   ],
   "source": [
    "my_score"
   ]
  },
  {
   "cell_type": "code",
   "execution_count": 60,
   "id": "0ffc4a81",
   "metadata": {},
   "outputs": [
    {
     "data": {
      "text/plain": [
       "[40, 44, 60, 50, 48, 68, 55, 46, 44, 54]"
      ]
     },
     "execution_count": 60,
     "metadata": {},
     "output_type": "execute_result"
    }
   ],
   "source": [
    "average_score"
   ]
  },
  {
   "cell_type": "code",
   "execution_count": 61,
   "id": "97cadea6",
   "metadata": {},
   "outputs": [
    {
     "data": {
      "text/plain": [
       "[46, 42, 62, 40, 38, 70, 52, 44, 42, 38]"
      ]
     },
     "execution_count": 61,
     "metadata": {},
     "output_type": "execute_result"
    }
   ],
   "source": [
    "virat_score"
   ]
  },
  {
   "cell_type": "code",
   "execution_count": 63,
   "id": "b5fdbc81",
   "metadata": {},
   "outputs": [
    {
     "name": "stdout",
     "output_type": "stream",
     "text": [
      "stat=337.622, p=0.000\n",
      "Different distributions of scores\n"
     ]
    }
   ],
   "source": [
    "tstat, p = scipy.stats.f_oneway(my_score, average_score, virat_score)\n",
    "print('stat=%.3f, p=%.3f' % (stat, p))\n",
    "if p > 0.05:\n",
    "    print('Same distribution of scores')\n",
    "else:\n",
    "    print('Different distributions of scores')"
   ]
  },
  {
   "cell_type": "code",
   "execution_count": null,
   "id": "f9cb9a49",
   "metadata": {},
   "outputs": [],
   "source": []
  },
  {
   "cell_type": "markdown",
   "id": "a06400d8",
   "metadata": {},
   "source": [
    "# Non-Parametric Test\n",
    "Does not assume data normally distributed"
   ]
  },
  {
   "cell_type": "markdown",
   "id": "19ca4239",
   "metadata": {},
   "source": [
    "## Mann-Whitney U Test\n",
    "### Tests whether the distributions of two or more independent samples are equal or not"
   ]
  },
  {
   "cell_type": "code",
   "execution_count": 64,
   "id": "a9f29750",
   "metadata": {},
   "outputs": [],
   "source": [
    "#Assumptions - Idential distribution, observations can be ranked"
   ]
  },
  {
   "cell_type": "code",
   "execution_count": 65,
   "id": "40a89a26",
   "metadata": {},
   "outputs": [],
   "source": [
    "class_1_score = [91,90,81,80,76]\n",
    "class_2_score = [88,86,85,84,83]"
   ]
  },
  {
   "cell_type": "code",
   "execution_count": 66,
   "id": "2824eec3",
   "metadata": {},
   "outputs": [
    {
     "name": "stdout",
     "output_type": "stream",
     "text": [
      "stat=337.622, p=0.690\n",
      "Same distribution\n"
     ]
    }
   ],
   "source": [
    "tstat, p = scipy.stats.mannwhitneyu(class_1_score, class_2_score)\n",
    "print('stat=%.3f, p=%.3f' % (stat, p))\n",
    "if p > 0.05:\n",
    "    print('Same distribution')\n",
    "else:\n",
    "    print('Different distributions')"
   ]
  },
  {
   "cell_type": "markdown",
   "id": "18051192",
   "metadata": {},
   "source": [
    "## Augmented Dickey-Fuller Test\n",
    "### Tests if a series is non stationary (H0) which means if in the different intervals taken the mean and variance is different"
   ]
  },
  {
   "cell_type": "code",
   "execution_count": 67,
   "id": "5d93b8b2",
   "metadata": {},
   "outputs": [],
   "source": [
    "#Definition of stationary time series - constant mean and variance"
   ]
  },
  {
   "cell_type": "code",
   "execution_count": 81,
   "id": "767697e4",
   "metadata": {},
   "outputs": [],
   "source": [
    "from statsmodels.tsa.stattools import adfuller\n",
    "stock_price_data_1 = [121,131,182,141,141,142,131,131,112]\n",
    "stat, p, lags, obs, crit, t = adfuller(stock_price_data_1)"
   ]
  },
  {
   "cell_type": "code",
   "execution_count": 82,
   "id": "15738eeb",
   "metadata": {},
   "outputs": [
    {
     "name": "stdout",
     "output_type": "stream",
     "text": [
      "stat=0.725, p=0.990\n",
      "Series is not Stationary\n"
     ]
    }
   ],
   "source": [
    "print('stat=%.3f, p=%.3f' % (stat, p))\n",
    "if p > 0.05:\n",
    "    print('Series is not Stationary')\n",
    "else:\n",
    "    print('Series is stationary')"
   ]
  },
  {
   "cell_type": "code",
   "execution_count": 83,
   "id": "0d78f20d",
   "metadata": {},
   "outputs": [],
   "source": [
    "stock_price_data_2 = [121,131,142,121,131,142,121,131,142]\n",
    "stat, p, lags, obs, crit, t = adfuller(stock_price_data_2)"
   ]
  },
  {
   "cell_type": "code",
   "execution_count": 84,
   "id": "6c946252",
   "metadata": {},
   "outputs": [
    {
     "name": "stdout",
     "output_type": "stream",
     "text": [
      "stat=-3030956918557.058, p=0.000\n",
      "Series is stationary\n"
     ]
    }
   ],
   "source": [
    "print('stat=%.3f, p=%.3f' % (stat, p))\n",
    "if p > 0.05:\n",
    "    print('Series is not Stationary')\n",
    "else:\n",
    "    print('Series is stationary')"
   ]
  }
 ],
 "metadata": {
  "kernelspec": {
   "display_name": "Python 3 (ipykernel)",
   "language": "python",
   "name": "python3"
  },
  "language_info": {
   "codemirror_mode": {
    "name": "ipython",
    "version": 3
   },
   "file_extension": ".py",
   "mimetype": "text/x-python",
   "name": "python",
   "nbconvert_exporter": "python",
   "pygments_lexer": "ipython3",
   "version": "3.9.12"
  }
 },
 "nbformat": 4,
 "nbformat_minor": 5
}
